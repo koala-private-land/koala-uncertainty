{
 "cells": [
  {
   "cell_type": "code",
   "execution_count": 107,
   "metadata": {},
   "outputs": [
    {
     "data": {
      "text/plain": [
       "fcn_evaluate_solution (generic function with 1 method)"
      ]
     },
     "metadata": {},
     "output_type": "display_data"
    }
   ],
   "source": [
    "using CSV\n",
    "using DataFrames\n",
    "using Revise\n",
    "using StatsBase\n",
    "using StochasticPrograms\n",
    "using Gurobi\n",
    "using JuMP\n",
    "using StatsPlots\n",
    "cd(\"/Users/frankiecho/Library/CloudStorage/OneDrive-TheUniversityofQueensland/Documents/GitHub/koala-uncertainty/\")\n",
    "include(\"optim-functions.jl\")"
   ]
  },
  {
   "cell_type": "code",
   "execution_count": 2,
   "metadata": {},
   "outputs": [],
   "source": [
    "cost_df = CSV.read(\"data/spatial_predictions_10yr.csv\", DataFrame);\n",
    "kitl_index_full = CSV.read(\"data/kitl_prop_climate.csv\", DataFrame);\n",
    "stratified_samples = CSV.read(\"data/stratified_sample.csv\", DataFrame);\n",
    "climateProjList = [\"CCCMA_R1\", \"CCCMA_R2\", \"CCCMA_R3\", \"CSIRO_R1\", \"CSIRO_R2\", \"CSIRO_R3\", \"ECHAM_R1\", \"ECHAM_R2\", \"ECHAM_R3\", \"MIROC_R1\", \"MIROC_R2\", \"MIROC_R3\"];"
   ]
  },
  {
   "cell_type": "code",
   "execution_count": 3,
   "metadata": {},
   "outputs": [
    {
     "data": {
      "text/plain": [
       "33-element Vector{String}:\n",
       " \"NewPropID\"\n",
       " \"KMR\"\n",
       " \"MosType\"\n",
       " \"LUSec\"\n",
       " \"LVAL\"\n",
       " \"AREA\"\n",
       " \"DMU\"\n",
       " \"DOU\"\n",
       " \"PTREE\"\n",
       " \"PGRASS\"\n",
       " ⋮\n",
       " \"SDAdopt\"\n",
       " \"SDWTA\"\n",
       " \"SDProp\"\n",
       " \"LowerAdopt\"\n",
       " \"LowerWTA\"\n",
       " \"LowerProp\"\n",
       " \"UpperAdopt\"\n",
       " \"UpperWTA\"\n",
       " \"UpperProp\""
      ]
     },
     "metadata": {},
     "output_type": "display_data"
    }
   ],
   "source": [
    "names(cost_df)"
   ]
  },
  {
   "attachments": {},
   "cell_type": "markdown",
   "metadata": {},
   "source": [
    "Calculate opportunity costs given an inflation rate"
   ]
  },
  {
   "cell_type": "code",
   "execution_count": 4,
   "metadata": {},
   "outputs": [],
   "source": [
    "inflation_rate = 0.02;\n",
    "t = 1:60;\n",
    "tp = 1:6 # time periods\n",
    "t_blocks = [(1:10) .+ (td-1)*10 for td in tp];\n",
    "delta = (1+inflation_rate).^(t);\n",
    "adoption = innerjoin(cost_df[:, [:NewPropID, :MeanWTA, :SDWTA, :MeanAdopt, :SDAdopt, :MeanProp, :SDProp, :AREA]], kitl_index_full[cmp.(kitl_index_full.climate_model,\"Avg\").==0, [:NewPropID]], on = :NewPropID);\n",
    "cost_ts = (adoption.MeanWTA .* adoption.AREA ./ 10); # Cost per-year\n",
    "cost_ts_full = [cost_ts .* d for d in delta];\n",
    "cost_delta = mapreduce(permutedims, vcat, cost_ts_full)';\n",
    "cost_blocks = mapreduce(permutedims, vcat, [sum(cost_delta[:,td], dims = 2) for td in t_blocks])';"
   ]
  },
  {
   "cell_type": "code",
   "execution_count": 5,
   "metadata": {},
   "outputs": [],
   "source": [
    "\n",
    "tp = 1:size(cost_blocks,2)\n",
    "kitl_threshold = 0.25; # cut-off for habitats deemed \"high-quality\"\n",
    "ii = 1; # Stratified sample to use\n",
    "kitl_index = innerjoin(kitl_index_full, adoption[:, [:NewPropID, :AREA, :MeanProp, :MeanAdopt]], on = :NewPropID);"
   ]
  },
  {
   "cell_type": "code",
   "execution_count": 74,
   "metadata": {},
   "outputs": [
    {
     "data": {
      "text/plain": [
       "4"
      ]
     },
     "metadata": {},
     "output_type": "display_data"
    }
   ],
   "source": [
    "cost_before = sum(cost_blocks[:, 3:(tt-1)], dims=2); # Cost start at 2020\n",
    "cost_after = sum(cost_blocks[:, tt:tp[end]], dims=2);\n",
    "t_symbols = [:t0, :t1, :t2, :t3, :t4, :t5, :t6, :t7]\n",
    "tt = 4 # Time period when uncertainty is revealed"
   ]
  },
  {
   "cell_type": "code",
   "execution_count": 75,
   "metadata": {},
   "outputs": [],
   "source": [
    "kitl_threshold_values = (kitl_index[:, t_symbols] .> kitl_threshold) .* kitl_index.AREA .* kitl_index.MeanProp;"
   ]
  },
  {
   "attachments": {},
   "cell_type": "markdown",
   "metadata": {},
   "source": [
    "Subset dataset to only stratified sampled cells"
   ]
  },
  {
   "cell_type": "code",
   "execution_count": 76,
   "metadata": {},
   "outputs": [],
   "source": [
    "stratified_df = DataFrame(NewPropID = vec(stratified_samples[:, ii]))\n",
    "cost_inputs = DataFrame(NewPropID = adoption.NewPropID, cost_before = vec(cost_before), cost_after = vec(cost_after));\n",
    "cost_subset = innerjoin(stratified_df, cost_inputs, on = :NewPropID);\n",
    "metric_inputs = DataFrame(NewPropID = kitl_index.NewPropID, climate_model = kitl_index.climate_model);\n",
    "metric_inputs = hcat(metric_inputs, kitl_threshold_values);\n",
    "metric_subset = innerjoin(stratified_df, metric_inputs, on = :NewPropID);\n",
    "filter!(row -> cmp(row.climate_model, \"Avg\") != 0, metric_subset);\n",
    "filter!(row -> row.NewPropID ∈ cost_subset.NewPropID, metric_subset);\n",
    "filter!(row -> row.NewPropID ∈ metric_subset.NewPropID, cost_subset);"
   ]
  },
  {
   "cell_type": "code",
   "execution_count": 81,
   "metadata": {},
   "outputs": [
    {
     "data": {
      "text/html": [
       "<div class=\"data-frame\"><p>114,444 rows × 10 columns (omitted printing of 2 columns)</p><table class=\"data-frame\"><thead><tr><th></th><th>NewPropID</th><th>climate_model</th><th>t0</th><th>t1</th><th>t2</th><th>t3</th><th>t4</th><th>t5</th></tr><tr><th></th><th title=\"Int64\">Int64</th><th title=\"String15\">String15</th><th title=\"Float64\">Float64</th><th title=\"Float64\">Float64</th><th title=\"Float64\">Float64</th><th title=\"Float64\">Float64</th><th title=\"Float64\">Float64</th><th title=\"Float64\">Float64</th></tr></thead><tbody><tr><th>1</th><td>3039</td><td>CCCMA_R1</td><td>0.0</td><td>0.0</td><td>0.0</td><td>0.0</td><td>0.0</td><td>0.0</td></tr><tr><th>2</th><td>3039</td><td>CCCMA_R2</td><td>0.0</td><td>0.0</td><td>0.0</td><td>0.0</td><td>0.0</td><td>0.0</td></tr><tr><th>3</th><td>3039</td><td>CCCMA_R3</td><td>0.0</td><td>0.0</td><td>0.0</td><td>0.0</td><td>0.0</td><td>0.0</td></tr><tr><th>4</th><td>3039</td><td>CSIRO_R1</td><td>0.0</td><td>0.0</td><td>0.0</td><td>0.0</td><td>0.0</td><td>0.0</td></tr><tr><th>5</th><td>3039</td><td>CSIRO_R2</td><td>0.0</td><td>0.0</td><td>0.0</td><td>0.0</td><td>0.0</td><td>0.0</td></tr><tr><th>6</th><td>3039</td><td>CSIRO_R3</td><td>0.0</td><td>0.0</td><td>0.0</td><td>0.0</td><td>0.0</td><td>0.0</td></tr><tr><th>7</th><td>3039</td><td>ECHAM_R1</td><td>0.0</td><td>0.0</td><td>0.0</td><td>0.0</td><td>0.0</td><td>0.0</td></tr><tr><th>8</th><td>3039</td><td>ECHAM_R2</td><td>0.0</td><td>0.0</td><td>0.0</td><td>0.0</td><td>0.0</td><td>0.0</td></tr><tr><th>9</th><td>3039</td><td>ECHAM_R3</td><td>0.0</td><td>0.0</td><td>0.0</td><td>0.0</td><td>0.0</td><td>0.0</td></tr><tr><th>10</th><td>3039</td><td>MIROC_R1</td><td>0.0</td><td>0.0</td><td>0.0</td><td>0.0</td><td>0.0</td><td>0.0</td></tr><tr><th>11</th><td>3039</td><td>MIROC_R2</td><td>0.0</td><td>0.0</td><td>0.0</td><td>0.0</td><td>0.0</td><td>0.0</td></tr><tr><th>12</th><td>3039</td><td>MIROC_R3</td><td>0.0</td><td>0.0</td><td>0.0</td><td>0.0</td><td>0.0</td><td>0.0</td></tr><tr><th>13</th><td>3162</td><td>CCCMA_R1</td><td>0.0</td><td>0.0</td><td>0.0</td><td>0.0</td><td>0.0</td><td>0.0</td></tr><tr><th>14</th><td>3162</td><td>CCCMA_R2</td><td>0.0</td><td>0.0</td><td>0.0</td><td>0.0</td><td>0.0</td><td>0.0</td></tr><tr><th>15</th><td>3162</td><td>CCCMA_R3</td><td>0.0</td><td>0.0</td><td>0.0</td><td>0.0</td><td>0.0</td><td>0.0</td></tr><tr><th>16</th><td>3162</td><td>CSIRO_R1</td><td>0.0</td><td>0.0</td><td>0.0</td><td>0.0</td><td>0.0</td><td>0.0</td></tr><tr><th>17</th><td>3162</td><td>CSIRO_R2</td><td>0.0</td><td>0.0</td><td>0.0</td><td>0.0</td><td>0.0</td><td>0.0</td></tr><tr><th>18</th><td>3162</td><td>CSIRO_R3</td><td>0.0</td><td>0.0</td><td>0.0</td><td>0.0</td><td>0.0</td><td>0.0</td></tr><tr><th>19</th><td>3162</td><td>ECHAM_R1</td><td>0.0</td><td>0.0</td><td>0.0</td><td>0.0</td><td>0.0</td><td>0.0</td></tr><tr><th>20</th><td>3162</td><td>ECHAM_R2</td><td>0.0</td><td>0.0</td><td>0.0</td><td>0.0</td><td>0.0</td><td>0.0</td></tr><tr><th>21</th><td>3162</td><td>ECHAM_R3</td><td>0.0</td><td>0.0</td><td>0.0</td><td>0.0</td><td>0.0</td><td>0.0</td></tr><tr><th>22</th><td>3162</td><td>MIROC_R1</td><td>0.0</td><td>0.0</td><td>0.0</td><td>0.0</td><td>0.0</td><td>0.0</td></tr><tr><th>23</th><td>3162</td><td>MIROC_R2</td><td>0.0</td><td>0.0</td><td>0.0</td><td>0.0</td><td>0.0</td><td>0.0</td></tr><tr><th>24</th><td>3162</td><td>MIROC_R3</td><td>0.0</td><td>0.0</td><td>0.0</td><td>0.0</td><td>0.0</td><td>0.0</td></tr><tr><th>&vellip;</th><td>&vellip;</td><td>&vellip;</td><td>&vellip;</td><td>&vellip;</td><td>&vellip;</td><td>&vellip;</td><td>&vellip;</td><td>&vellip;</td></tr></tbody></table></div>"
      ],
      "text/latex": [
       "\\begin{tabular}{r|ccccccccc}\n",
       "\t& NewPropID & climate\\_model & t0 & t1 & t2 & t3 & t4 & t5 & \\\\\n",
       "\t\\hline\n",
       "\t& Int64 & String15 & Float64 & Float64 & Float64 & Float64 & Float64 & Float64 & \\\\\n",
       "\t\\hline\n",
       "\t1 & 3039 & CCCMA\\_R1 & 0.0 & 0.0 & 0.0 & 0.0 & 0.0 & 0.0 & $\\dots$ \\\\\n",
       "\t2 & 3039 & CCCMA\\_R2 & 0.0 & 0.0 & 0.0 & 0.0 & 0.0 & 0.0 & $\\dots$ \\\\\n",
       "\t3 & 3039 & CCCMA\\_R3 & 0.0 & 0.0 & 0.0 & 0.0 & 0.0 & 0.0 & $\\dots$ \\\\\n",
       "\t4 & 3039 & CSIRO\\_R1 & 0.0 & 0.0 & 0.0 & 0.0 & 0.0 & 0.0 & $\\dots$ \\\\\n",
       "\t5 & 3039 & CSIRO\\_R2 & 0.0 & 0.0 & 0.0 & 0.0 & 0.0 & 0.0 & $\\dots$ \\\\\n",
       "\t6 & 3039 & CSIRO\\_R3 & 0.0 & 0.0 & 0.0 & 0.0 & 0.0 & 0.0 & $\\dots$ \\\\\n",
       "\t7 & 3039 & ECHAM\\_R1 & 0.0 & 0.0 & 0.0 & 0.0 & 0.0 & 0.0 & $\\dots$ \\\\\n",
       "\t8 & 3039 & ECHAM\\_R2 & 0.0 & 0.0 & 0.0 & 0.0 & 0.0 & 0.0 & $\\dots$ \\\\\n",
       "\t9 & 3039 & ECHAM\\_R3 & 0.0 & 0.0 & 0.0 & 0.0 & 0.0 & 0.0 & $\\dots$ \\\\\n",
       "\t10 & 3039 & MIROC\\_R1 & 0.0 & 0.0 & 0.0 & 0.0 & 0.0 & 0.0 & $\\dots$ \\\\\n",
       "\t11 & 3039 & MIROC\\_R2 & 0.0 & 0.0 & 0.0 & 0.0 & 0.0 & 0.0 & $\\dots$ \\\\\n",
       "\t12 & 3039 & MIROC\\_R3 & 0.0 & 0.0 & 0.0 & 0.0 & 0.0 & 0.0 & $\\dots$ \\\\\n",
       "\t13 & 3162 & CCCMA\\_R1 & 0.0 & 0.0 & 0.0 & 0.0 & 0.0 & 0.0 & $\\dots$ \\\\\n",
       "\t14 & 3162 & CCCMA\\_R2 & 0.0 & 0.0 & 0.0 & 0.0 & 0.0 & 0.0 & $\\dots$ \\\\\n",
       "\t15 & 3162 & CCCMA\\_R3 & 0.0 & 0.0 & 0.0 & 0.0 & 0.0 & 0.0 & $\\dots$ \\\\\n",
       "\t16 & 3162 & CSIRO\\_R1 & 0.0 & 0.0 & 0.0 & 0.0 & 0.0 & 0.0 & $\\dots$ \\\\\n",
       "\t17 & 3162 & CSIRO\\_R2 & 0.0 & 0.0 & 0.0 & 0.0 & 0.0 & 0.0 & $\\dots$ \\\\\n",
       "\t18 & 3162 & CSIRO\\_R3 & 0.0 & 0.0 & 0.0 & 0.0 & 0.0 & 0.0 & $\\dots$ \\\\\n",
       "\t19 & 3162 & ECHAM\\_R1 & 0.0 & 0.0 & 0.0 & 0.0 & 0.0 & 0.0 & $\\dots$ \\\\\n",
       "\t20 & 3162 & ECHAM\\_R2 & 0.0 & 0.0 & 0.0 & 0.0 & 0.0 & 0.0 & $\\dots$ \\\\\n",
       "\t21 & 3162 & ECHAM\\_R3 & 0.0 & 0.0 & 0.0 & 0.0 & 0.0 & 0.0 & $\\dots$ \\\\\n",
       "\t22 & 3162 & MIROC\\_R1 & 0.0 & 0.0 & 0.0 & 0.0 & 0.0 & 0.0 & $\\dots$ \\\\\n",
       "\t23 & 3162 & MIROC\\_R2 & 0.0 & 0.0 & 0.0 & 0.0 & 0.0 & 0.0 & $\\dots$ \\\\\n",
       "\t24 & 3162 & MIROC\\_R3 & 0.0 & 0.0 & 0.0 & 0.0 & 0.0 & 0.0 & $\\dots$ \\\\\n",
       "\t$\\dots$ & $\\dots$ & $\\dots$ & $\\dots$ & $\\dots$ & $\\dots$ & $\\dots$ & $\\dots$ & $\\dots$ &  \\\\\n",
       "\\end{tabular}\n"
      ],
      "text/plain": [
       "\u001b[1m114444×10 DataFrame\u001b[0m\n",
       "\u001b[1m    Row \u001b[0m│\u001b[1m NewPropID \u001b[0m\u001b[1m climate_model \u001b[0m\u001b[1m t0      \u001b[0m\u001b[1m t1      \u001b[0m\u001b[1m t2      \u001b[0m\u001b[1m t3      \u001b[0m\u001b[1m t4    \u001b[0m ⋯\n",
       "\u001b[1m        \u001b[0m│\u001b[90m Int64     \u001b[0m\u001b[90m String15      \u001b[0m\u001b[90m Float64 \u001b[0m\u001b[90m Float64 \u001b[0m\u001b[90m Float64 \u001b[0m\u001b[90m Float64 \u001b[0m\u001b[90m Float6\u001b[0m ⋯\n",
       "────────┼───────────────────────────────────────────────────────────────────────\n",
       "      1 │      3039  CCCMA_R1           0.0      0.0      0.0      0.0      0. ⋯\n",
       "      2 │      3039  CCCMA_R2           0.0      0.0      0.0      0.0      0.\n",
       "      3 │      3039  CCCMA_R3           0.0      0.0      0.0      0.0      0.\n",
       "      4 │      3039  CSIRO_R1           0.0      0.0      0.0      0.0      0.\n",
       "      5 │      3039  CSIRO_R2           0.0      0.0      0.0      0.0      0. ⋯\n",
       "      6 │      3039  CSIRO_R3           0.0      0.0      0.0      0.0      0.\n",
       "      7 │      3039  ECHAM_R1           0.0      0.0      0.0      0.0      0.\n",
       "      8 │      3039  ECHAM_R2           0.0      0.0      0.0      0.0      0.\n",
       "   ⋮    │     ⋮            ⋮           ⋮        ⋮        ⋮        ⋮        ⋮   ⋱\n",
       " 114438 │ 174693554  CSIRO_R3           0.0      0.0      0.0      0.0      0. ⋯\n",
       " 114439 │ 174693554  ECHAM_R1           0.0      0.0      0.0      0.0      0.\n",
       " 114440 │ 174693554  ECHAM_R2           0.0      0.0      0.0      0.0      0.\n",
       " 114441 │ 174693554  ECHAM_R3           0.0      0.0      0.0      0.0      0.\n",
       " 114442 │ 174693554  MIROC_R1           0.0      0.0      0.0      0.0      0. ⋯\n",
       " 114443 │ 174693554  MIROC_R2           0.0      0.0      0.0      0.0      0.\n",
       " 114444 │ 174693554  MIROC_R3           0.0      0.0      0.0      0.0      0.\n",
       "\u001b[36m                                               4 columns and 114429 rows omitted\u001b[0m"
      ]
     },
     "metadata": {},
     "output_type": "display_data"
    }
   ],
   "source": [
    "climateProjList = [\"CCCMA_R1\", \"CCCMA_R2\", \"CCCMA_R3\", \"CSIRO_R1\", \"CSIRO_R2\", \"CSIRO_R3\", \"ECHAM_R1\", \"ECHAM_R2\", \"ECHAM_R3\", \"MIROC_R1\", \"MIROC_R2\", \"MIROC_R3\"];\n",
    "metric_subset"
   ]
  },
  {
   "cell_type": "code",
   "execution_count": 89,
   "metadata": {},
   "outputs": [],
   "source": [
    "N = length(unique(metric_subset.NewPropID))\n",
    "S = length(climateProjList)\n",
    "M₁ = zeros(N, length(1:(tt-1)), S)\n",
    "M₂ = zeros(N, length(tt:length(t_symbols)), S)\n",
    "for t=1:length(t_symbols)\n",
    "  for s=1:S\n",
    "    metric_unstacked = unstack(metric_subset, :NewPropID, :climate_model, t_symbols[t])\n",
    "    if (t < tt)\n",
    "      M₁[:,t,:] = Matrix(metric_unstacked[:, climateProjList])\n",
    "    else\n",
    "      M₂[:,t-tt+1,:] = Matrix(metric_unstacked[:, climateProjList])\n",
    "    end\n",
    "  end\n",
    "end"
   ]
  },
  {
   "cell_type": "code",
   "execution_count": 102,
   "metadata": {},
   "outputs": [
    {
     "data": {
      "text/plain": [
       "(9537, 3, 12)"
      ]
     },
     "metadata": {},
     "output_type": "display_data"
    }
   ],
   "source": [
    "size(M₁)"
   ]
  },
  {
   "cell_type": "code",
   "execution_count": 109,
   "metadata": {},
   "outputs": [
    {
     "data": {
      "text/plain": [
       "Realisation([0.0, 0.0, 0.0, 0.0, 0.0, 0.0, 0.0, 0.0, 0.0, 0.0  …  0.0, 0.0, 0.0, 0.0, 0.0, 0.0, 0.0, 0.0, 0.0, 0.0], [35.29515852822115, 26.18636992317983, 32.03676101284311, 369.3841390058147, 381.5020683349195, 478.4022353340692, 396.37307405974104, 394.6432381247755, 260.19155587080905, 51.84901637646141  …  317.72742891077786, 2111.28750803746, 940.4204914731318, 1404.4953321986777, 161.36294877060345, 4755.142393027663, 11028.335636318545, 128.6265596701682, 389.59052836930425, 34.07014062701813], [0.0 0.0 0.0; 0.0 0.0 0.0; … ; 0.0 0.0 0.0; 0.0 0.0 0.0;;; 0.0 0.0 0.0; 0.0 0.0 0.0; … ; 0.0 0.0 0.0; 0.0 0.0 0.0;;; 0.0 0.0 0.0; 0.0 0.0 0.0; … ; 0.0 0.0 0.0; 0.0 0.0 0.0;;; … ;;; 0.0 0.0 0.0; 0.0 0.0 0.0; … ; 0.0 0.0 0.0; 0.0 0.0 0.0;;; 0.0 0.0 0.0; 0.0 0.0 0.0; … ; 0.0 0.0 0.0; 0.0 0.0 0.0;;; 0.0 0.0 0.0; 0.0 0.0 0.0; … ; 0.0 0.0 0.0; 0.0 0.0 0.0], [0.0 0.0 … 0.0 0.0; 0.0 0.0 … 0.0 0.0; … ; 0.0 0.0 … 0.0 0.0; 0.0 0.0 … 0.0 0.0;;; 0.0 0.0 … 0.0 0.0; 0.0 0.0 … 0.0 0.0; … ; 0.0 0.0 … 0.0 0.0; 0.0 0.0 … 0.0 0.0;;; 0.0 0.0 … 0.0 0.0; 0.0 0.0 … 0.0 0.0; … ; 0.0 0.0 … 0.0 0.0; 0.0 0.0 … 0.0 0.0;;; … ;;; 0.0 0.0 … 0.0 0.0; 0.0 0.0 … 0.0 0.0; … ; 0.0 0.0 … 0.0 0.0; 0.0 0.0 … 0.0 0.0;;; 0.0 0.0 … 0.0 0.0; 0.0 0.0 … 0.0 0.0; … ; 0.0 0.0 … 0.0 0.0; 0.0 0.0 … 0.0 0.0;;; 0.0 0.0 … 0.0 0.0; 0.0 0.0 … 0.0 0.0; … ; 0.0 0.0 … 0.0 0.0; 0.0 0.0 … 0.0 0.0], [1.0, 1.0, 1.0, 1.0, 1.0, 1.0, 1.0, 1.0, 1.0, 1.0  …  1.0, 1.0, 1.0, 1.0, 1.0, 1.0, 1.0, 1.0, 1.0, 1.0], [0.08333333333333333, 0.08333333333333333, 0.08333333333333333, 0.08333333333333333, 0.08333333333333333, 0.08333333333333333, 0.08333333333333333, 0.08333333333333333, 0.08333333333333333, 0.08333333333333333, 0.08333333333333333, 0.08333333333333333])"
      ]
     },
     "metadata": {},
     "output_type": "display_data"
    }
   ],
   "source": [
    "r = Realisation(cost_subset.cost_before, cost_subset.cost_after, M₁, M₂)"
   ]
  },
  {
   "cell_type": "code",
   "execution_count": 114,
   "metadata": {},
   "outputs": [
    {
     "data": {
      "text/plain": [
       "12-element Vector{Vector{Float64}}:\n",
       " [1918.8143800821963, 1305.6780141542145, 1208.5803611483432, 774.8736921318093, 873.5266274409778]\n",
       " [1840.4575312779002, 1147.1615821347275, 501.7452895747667, 2.92526086319456, 0.0]\n",
       " [1747.9725889999058, 1592.461709008147, 1127.233799824835, 755.216363105896, 428.3665770134107]\n",
       " [2177.9308800656213, 2111.05704858166, 1899.4046093771456, 1813.2751093489655, 1650.4633569607417]\n",
       " [2496.7653164389335, 2442.3449947019144, 2364.767599124096, 2107.505484866616, 1870.281319521435]\n",
       " [582.9928721946144, 1085.107006852796, 1288.627249757843, 1510.958171790325, 1844.333266866276]\n",
       " [2747.6748679843004, 2451.1285683007623, 0.0, 0.0, 1908.0533611753062]\n",
       " [2065.9587553521487, 1866.990300959405, 1762.3764347039255, 1633.221281511597, 1423.201446225884]\n",
       " [2907.012642611885, 2774.175157560566, 2830.3835634946236, 2738.3396221755415, 2950.802254263517]\n",
       " [2806.624904364392, 2424.149346978263, 2123.592027370344, 1474.4958766316036, 1268.564038768661]\n",
       " [2305.7798628425217, 2089.001027599425, 1808.4661277129856, 1152.7132503414816, 992.5897791994508]\n",
       " [1983.7138108628915, 2116.423745436585, 2065.9430256463997, 2424.497786478743, 2829.371732544965]"
      ]
     },
     "metadata": {},
     "output_type": "display_data"
    }
   ],
   "source": [
    "[sum.(eachcol(M₂[:,:,s])) for s=1:S]"
   ]
  },
  {
   "cell_type": "code",
   "execution_count": 111,
   "metadata": {},
   "outputs": [
    {
     "name": "stdout",
     "output_type": "stream",
     "text": [
      "Set parameter Username\n",
      "Academic license - for non-commercial use only - expires 2024-01-08\n"
     ]
    },
    {
     "ename": "MathOptInterface.ResultIndexBoundsError{MathOptInterface.ObjectiveValue}",
     "evalue": "Result index of attribute MathOptInterface.ObjectiveValue(1) out of bounds. There are currently 0 solution(s) in the model.",
     "output_type": "error",
     "traceback": [
      "Result index of attribute MathOptInterface.ObjectiveValue(1) out of bounds. There are currently 0 solution(s) in the model.\n",
      "\n",
      "Stacktrace:\n",
      "  [1] check_result_index_bounds\n",
      "    @ ~/.julia/packages/MathOptInterface/RuRWI/src/attributes.jl:176 [inlined]\n",
      "  [2] get(model::Gurobi.Optimizer, attr::MathOptInterface.ObjectiveValue)\n",
      "    @ Gurobi ~/.julia/packages/Gurobi/VPomg/src/MOI_wrapper/MOI_wrapper.jl:3084\n",
      "  [3] get(b::MathOptInterface.Bridges.LazyBridgeOptimizer{Gurobi.Optimizer}, attr::MathOptInterface.ObjectiveValue)\n",
      "    @ MathOptInterface.Bridges ~/.julia/packages/MathOptInterface/RuRWI/src/Bridges/bridge_optimizer.jl:1004\n",
      "  [4] get(model::MathOptInterface.Utilities.CachingOptimizer{MathOptInterface.Bridges.LazyBridgeOptimizer{Gurobi.Optimizer}, MathOptInterface.Utilities.UniversalFallback{MathOptInterface.Utilities.Model{Float64}}}, attr::MathOptInterface.ObjectiveValue)\n",
      "    @ MathOptInterface.Utilities ~/.julia/packages/MathOptInterface/RuRWI/src/Utilities/cachingoptimizer.jl:834\n",
      "  [5] _moi_get_result(model::MathOptInterface.Utilities.CachingOptimizer{MathOptInterface.Bridges.LazyBridgeOptimizer{Gurobi.Optimizer}, MathOptInterface.Utilities.UniversalFallback{MathOptInterface.Utilities.Model{Float64}}}, args::MathOptInterface.ObjectiveValue)\n",
      "    @ JuMP ~/.julia/packages/JuMP/60Bnj/src/JuMP.jl:1155\n",
      "  [6] get(model::Model, attr::MathOptInterface.ObjectiveValue)\n",
      "    @ JuMP ~/.julia/packages/JuMP/60Bnj/src/JuMP.jl:1175\n",
      "  [7] objective_value(model::Model; result::Int64)\n",
      "    @ JuMP ~/.julia/packages/JuMP/60Bnj/src/objective.jl:42\n",
      "  [8] objective_value\n",
      "    @ ~/.julia/packages/JuMP/60Bnj/src/objective.jl:41 [inlined]\n",
      "  [9] fcn_two_stage_opt_saa(realisations::Vector{Realisation}; K::Int64, β::Int64, γ::Int64, add_recourse::Bool, terminate_recourse::Bool)\n",
      "    @ Main ~/Library/CloudStorage/OneDrive-TheUniversityofQueensland/Documents/GitHub/koala-uncertainty/code/optim-functions.jl:130\n",
      " [10] top-level scope\n",
      "    @ ~/Library/CloudStorage/OneDrive-TheUniversityofQueensland/Documents/GitHub/koala-uncertainty/code/two-stage-kitl.ipynb:1"
     ]
    }
   ],
   "source": [
    "solution_no_recourse = fcn_two_stage_opt_saa([r], add_recourse = false, terminate_recourse = false)\n",
    "solution_add_recourse = fcn_two_stage_opt_saa([r], add_recourse = true, terminate_recourse = false)\n",
    "solution_terminate_recourse = fcn_two_stage_opt_saa([r], add_recourse = false, terminate_recourse = true)\n",
    "solution_full_recourse = fcn_two_stage_opt_saa([r], add_recourse = true, terminate_recourse = true)"
   ]
  },
  {
   "cell_type": "code",
   "execution_count": 18,
   "metadata": {},
   "outputs": [
    {
     "data": {
      "text/plain": [
       "71742.3701450581"
      ]
     },
     "metadata": {},
     "output_type": "display_data"
    }
   ],
   "source": [
    "objective_value(solution_no_recourse.model)\n"
   ]
  },
  {
   "cell_type": "code",
   "execution_count": 19,
   "metadata": {},
   "outputs": [
    {
     "data": {
      "text/plain": [
       "71720.491221524"
      ]
     },
     "metadata": {},
     "output_type": "display_data"
    }
   ],
   "source": [
    "objective_value(solution_full_recourse.model)"
   ]
  },
  {
   "cell_type": "code",
   "execution_count": 20,
   "metadata": {},
   "outputs": [
    {
     "data": {
      "text/plain": [
       "71742.3701450581"
      ]
     },
     "metadata": {},
     "output_type": "display_data"
    }
   ],
   "source": [
    "objective_value(solution_add_recourse.model)"
   ]
  },
  {
   "cell_type": "code",
   "execution_count": 21,
   "metadata": {},
   "outputs": [
    {
     "data": {
      "text/plain": [
       "16.947677170788758"
      ]
     },
     "metadata": {},
     "output_type": "display_data"
    }
   ],
   "source": [
    "\n",
    "sum(value.(solution_full_recourse.model[:x]) .- value.(solution_full_recourse.model[:w])[:,10])"
   ]
  },
  {
   "cell_type": "code",
   "execution_count": 25,
   "metadata": {},
   "outputs": [
    {
     "data": {
      "text/plain": [
       "12-element Vector{Union{Missing, Float64}}:\n",
       " 7000.9677928874435\n",
       " 7000.08224263148\n",
       " 7000.892433471852\n",
       " 7002.916334031763\n",
       " 7004.144235863698\n",
       " 7002.226535631552\n",
       " 7001.512761354233\n",
       " 7001.888360463729\n",
       " 7003.585322681888\n",
       " 7003.00522124162\n",
       " 7002.1667130162505\n",
       " 7002.892436153008"
      ]
     },
     "metadata": {},
     "output_type": "display_data"
    }
   ],
   "source": [
    "r.M₂' * value.(solution_no_recourse.model[:x])"
   ]
  },
  {
   "cell_type": "code",
   "execution_count": null,
   "metadata": {},
   "outputs": [],
   "source": []
  }
 ],
 "metadata": {
  "kernelspec": {
   "display_name": "Julia 1.8.5",
   "language": "julia",
   "name": "julia-1.8"
  },
  "language_info": {
   "file_extension": ".jl",
   "mimetype": "application/julia",
   "name": "julia",
   "version": "1.8.5"
  },
  "orig_nbformat": 4
 },
 "nbformat": 4,
 "nbformat_minor": 2
}
