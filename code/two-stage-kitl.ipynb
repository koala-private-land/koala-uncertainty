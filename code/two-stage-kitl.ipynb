{
 "cells": [
  {
   "cell_type": "code",
   "execution_count": 60,
   "metadata": {},
   "outputs": [
    {
     "data": {
      "text/plain": [
       "fcn_evaluate_solution (generic function with 1 method)"
      ]
     },
     "metadata": {},
     "output_type": "display_data"
    }
   ],
   "source": [
    "using CSV\n",
    "using DataFrames\n",
    "using Revise\n",
    "using StatsBase\n",
    "using StochasticPrograms\n",
    "using Gurobi\n",
    "using JuMP\n",
    "using StatsPlots\n",
    "using Distributions\n",
    "#cd(\"/Users/frankiecho/Library/CloudStorage/OneDrive-TheUniversityofQueensland/Documents/GitHub/koala-uncertainty/\")\n",
    "cd(raw\"C:\\Users\\uqfcho\\OneDrive - The University of Queensland\\Documents\\GitHub\\koala-uncertainty\")\n",
    "\n",
    "include(\"optim-functions.jl\")"
   ]
  },
  {
   "cell_type": "code",
   "execution_count": 61,
   "metadata": {},
   "outputs": [],
   "source": [
    "cost_df = CSV.read(\"data/spatial_predictions_10yr.csv\", DataFrame);\n",
    "kitl_index_full = CSV.read(\"data/kitl_prop_climate.csv\", DataFrame);\n",
    "stratified_samples = CSV.read(\"data/stratified_sample.csv\", DataFrame);\n",
    "climateProjList = [\"CCCMA_R1\", \"CCCMA_R2\", \"CCCMA_R3\", \"CSIRO_R1\", \"CSIRO_R2\", \"CSIRO_R3\", \"ECHAM_R1\", \"ECHAM_R2\", \"ECHAM_R3\", \"MIROC_R1\", \"MIROC_R2\", \"MIROC_R3\"];"
   ]
  },
  {
   "attachments": {},
   "cell_type": "markdown",
   "metadata": {},
   "source": [
    "Calculate opportunity costs given an inflation rate"
   ]
  },
  {
   "cell_type": "code",
   "execution_count": 62,
   "metadata": {},
   "outputs": [
    {
     "data": {
      "text/plain": [
       "([25815.051874207988; 19811.55790732091; … ; 10868.211392272427; 10733.907768284918;;], [46760.393256575655; 35885.894914560144; … ; 19686.26060387671; 19442.988178779877;;])"
      ]
     },
     "metadata": {},
     "output_type": "display_data"
    }
   ],
   "source": [
    "inflation_rate = 0.02;\n",
    "t = 1:60;\n",
    "\n",
    "function cost_to_ts(cost, area, adopt, idx_before=1:3, idx_after=4:6, inflation_rate = 0.02)\n",
    "  tp = 1:6 # time periods\n",
    "  t_blocks = [(1:10) .+ (td-1)*10 for td in tp];\n",
    "  delta = (1+inflation_rate).^(t);\n",
    "  cost_ts = (cost .* 1000 .* area .* adopt ./ 10); # Cost per-year\n",
    "  cost_ts_full = [cost_ts .* d for d in delta];\n",
    "  cost_delta = mapreduce(permutedims, vcat, cost_ts_full)';\n",
    "  cost_blocks = mapreduce(permutedims, vcat, [sum(cost_delta[:,td], dims = 2) for td in t_blocks])';\n",
    "  cost_before = sum(cost_blocks[:, idx_before], dims=2); # Cost start at 2020\n",
    "  cost_after = sum(cost_blocks[:, idx_after], dims=2);\n",
    "  return(cost_before, cost_after)\n",
    "end\n",
    "\n",
    "adoption = innerjoin(cost_df[:, [:NewPropID, :MeanWTA, :SDWTA, :MeanAdopt, :SDAdopt, :MeanProp, :SDProp, :AREA]], kitl_index_full[cmp.(kitl_index_full.climate_model,\"Avg\").==0, [:NewPropID]], on = :NewPropID);\n",
    "cost_before, cost_after = cost_to_ts(adoption.MeanWTA, adoption.AREA, adoption.MeanAdopt)"
   ]
  },
  {
   "cell_type": "code",
   "execution_count": 63,
   "metadata": {},
   "outputs": [],
   "source": [
    "kitl_threshold = 0.25; # cut-off for habitats deemed \"high-quality\"\n",
    "ii = 1; # Stratified sample to use\n",
    "kitl_index = innerjoin(kitl_index_full, adoption[:, [:NewPropID, :AREA, :MeanProp, :MeanAdopt]], on = :NewPropID);"
   ]
  },
  {
   "cell_type": "code",
   "execution_count": 64,
   "metadata": {},
   "outputs": [
    {
     "data": {
      "text/plain": [
       "4"
      ]
     },
     "metadata": {},
     "output_type": "display_data"
    }
   ],
   "source": [
    "\n",
    "t_symbols = [:t0, :t1, :t2, :t3, :t4, :t5, :t6, :t7]\n",
    "tt = 4 # Time period when uncertainty is revealed"
   ]
  },
  {
   "cell_type": "code",
   "execution_count": 65,
   "metadata": {},
   "outputs": [],
   "source": [
    "kitl_threshold_values = (kitl_index[:, t_symbols] .+ 0.5) .* kitl_index.AREA .* kitl_index.MeanProp;"
   ]
  },
  {
   "attachments": {},
   "cell_type": "markdown",
   "metadata": {},
   "source": [
    "Subset dataset to only stratified sampled cells"
   ]
  },
  {
   "cell_type": "code",
   "execution_count": 66,
   "metadata": {},
   "outputs": [],
   "source": [
    "stratified_df = DataFrame(NewPropID = vec(stratified_samples[:, ii]))\n",
    "cost_inputs = DataFrame(NewPropID = adoption.NewPropID, cost_before = vec(cost_before), cost_after = vec(cost_after));\n",
    "cost_subset = innerjoin(stratified_df, cost_inputs, on = :NewPropID);\n",
    "metric_inputs = DataFrame(NewPropID = kitl_index.NewPropID, climate_model = kitl_index.climate_model);\n",
    "metric_inputs = hcat(metric_inputs, kitl_threshold_values);\n",
    "metric_subset = innerjoin(stratified_df, metric_inputs, on = :NewPropID);\n",
    "filter!(row -> cmp(row.climate_model, \"Avg\") != 0, metric_subset);\n",
    "filter!(row -> row.NewPropID ∈ cost_subset.NewPropID, metric_subset);\n",
    "filter!(row -> row.NewPropID ∈ metric_subset.NewPropID, cost_subset);"
   ]
  },
  {
   "cell_type": "code",
   "execution_count": 67,
   "metadata": {},
   "outputs": [
    {
     "data": {
      "text/html": [
       "<div class=\"data-frame\"><p>114,444 rows × 10 columns (omitted printing of 2 columns)</p><table class=\"data-frame\"><thead><tr><th></th><th>NewPropID</th><th>climate_model</th><th>t0</th><th>t1</th><th>t2</th><th>t3</th><th>t4</th><th>t5</th></tr><tr><th></th><th title=\"Int64\">Int64</th><th title=\"String15\">String15</th><th title=\"Float64\">Float64</th><th title=\"Float64\">Float64</th><th title=\"Float64\">Float64</th><th title=\"Float64\">Float64</th><th title=\"Float64\">Float64</th><th title=\"Float64\">Float64</th></tr></thead><tbody><tr><th>1</th><td>3039</td><td>CCCMA_R1</td><td>0.952858</td><td>0.751328</td><td>0.719133</td><td>0.671101</td><td>0.666848</td><td>0.662095</td></tr><tr><th>2</th><td>3039</td><td>CCCMA_R2</td><td>0.952868</td><td>0.740683</td><td>0.697315</td><td>0.636743</td><td>0.635783</td><td>0.637545</td></tr><tr><th>3</th><td>3039</td><td>CCCMA_R3</td><td>0.952864</td><td>0.74244</td><td>0.698499</td><td>0.631515</td><td>0.632762</td><td>0.635284</td></tr><tr><th>4</th><td>3039</td><td>CSIRO_R1</td><td>0.952946</td><td>0.752189</td><td>0.727038</td><td>0.699278</td><td>0.694496</td><td>0.684893</td></tr><tr><th>5</th><td>3039</td><td>CSIRO_R2</td><td>0.952938</td><td>0.747661</td><td>0.717347</td><td>0.682489</td><td>0.672919</td><td>0.664046</td></tr><tr><th>6</th><td>3039</td><td>CSIRO_R3</td><td>0.952742</td><td>0.735542</td><td>0.692134</td><td>0.642075</td><td>0.656035</td><td>0.668263</td></tr><tr><th>7</th><td>3039</td><td>ECHAM_R1</td><td>0.952658</td><td>0.739759</td><td>0.698253</td><td>0.647633</td><td>0.663895</td><td>0.502897</td></tr><tr><th>8</th><td>3039</td><td>ECHAM_R2</td><td>0.952495</td><td>0.73289</td><td>0.683032</td><td>0.62385</td><td>0.643952</td><td>0.660906</td></tr><tr><th>9</th><td>3039</td><td>ECHAM_R3</td><td>0.952872</td><td>0.740993</td><td>0.700543</td><td>0.651823</td><td>0.657173</td><td>0.662571</td></tr><tr><th>10</th><td>3039</td><td>MIROC_R1</td><td>0.952958</td><td>0.754306</td><td>0.726651</td><td>0.69063</td><td>0.714199</td><td>0.734797</td></tr><tr><th>11</th><td>3039</td><td>MIROC_R2</td><td>0.952982</td><td>0.749392</td><td>0.716637</td><td>0.675169</td><td>0.692576</td><td>0.708242</td></tr><tr><th>12</th><td>3039</td><td>MIROC_R3</td><td>0.953264</td><td>0.744294</td><td>0.707119</td><td>0.662295</td><td>0.692179</td><td>0.719248</td></tr><tr><th>13</th><td>3162</td><td>CCCMA_R1</td><td>0.906112</td><td>0.576728</td><td>0.551484</td><td>0.519338</td><td>0.519472</td><td>0.519153</td></tr><tr><th>14</th><td>3162</td><td>CCCMA_R2</td><td>0.906094</td><td>0.569935</td><td>0.541646</td><td>0.501931</td><td>0.504094</td><td>0.506128</td></tr><tr><th>15</th><td>3162</td><td>CCCMA_R3</td><td>0.906104</td><td>0.57085</td><td>0.54285</td><td>0.502236</td><td>0.502281</td><td>0.502064</td></tr><tr><th>16</th><td>3162</td><td>CSIRO_R1</td><td>0.906162</td><td>0.57106</td><td>0.54356</td><td>0.514832</td><td>0.524081</td><td>0.528423</td></tr><tr><th>17</th><td>3162</td><td>CSIRO_R2</td><td>0.906145</td><td>0.570611</td><td>0.540419</td><td>0.505225</td><td>0.508586</td><td>0.511858</td></tr><tr><th>18</th><td>3162</td><td>CSIRO_R3</td><td>0.905982</td><td>0.567452</td><td>0.536161</td><td>0.497708</td><td>0.50584</td><td>0.513636</td></tr><tr><th>19</th><td>3162</td><td>ECHAM_R1</td><td>0.905911</td><td>0.566107</td><td>0.536886</td><td>0.492898</td><td>0.511741</td><td>0.426391</td></tr><tr><th>20</th><td>3162</td><td>ECHAM_R2</td><td>0.905791</td><td>0.569964</td><td>0.547519</td><td>0.511668</td><td>0.513022</td><td>0.513984</td></tr><tr><th>21</th><td>3162</td><td>ECHAM_R3</td><td>0.906123</td><td>0.573104</td><td>0.55302</td><td>0.524609</td><td>0.533144</td><td>0.540893</td></tr><tr><th>22</th><td>3162</td><td>MIROC_R1</td><td>0.906206</td><td>0.578505</td><td>0.554884</td><td>0.523834</td><td>0.544952</td><td>0.564005</td></tr><tr><th>23</th><td>3162</td><td>MIROC_R2</td><td>0.906149</td><td>0.57042</td><td>0.536166</td><td>0.488283</td><td>0.501957</td><td>0.514423</td></tr><tr><th>24</th><td>3162</td><td>MIROC_R3</td><td>0.906363</td><td>0.573332</td><td>0.545649</td><td>0.514154</td><td>0.539461</td><td>0.561909</td></tr><tr><th>&vellip;</th><td>&vellip;</td><td>&vellip;</td><td>&vellip;</td><td>&vellip;</td><td>&vellip;</td><td>&vellip;</td><td>&vellip;</td><td>&vellip;</td></tr></tbody></table></div>"
      ],
      "text/latex": [
       "\\begin{tabular}{r|ccccccccc}\n",
       "\t& NewPropID & climate\\_model & t0 & t1 & t2 & t3 & t4 & t5 & \\\\\n",
       "\t\\hline\n",
       "\t& Int64 & String15 & Float64 & Float64 & Float64 & Float64 & Float64 & Float64 & \\\\\n",
       "\t\\hline\n",
       "\t1 & 3039 & CCCMA\\_R1 & 0.952858 & 0.751328 & 0.719133 & 0.671101 & 0.666848 & 0.662095 & $\\dots$ \\\\\n",
       "\t2 & 3039 & CCCMA\\_R2 & 0.952868 & 0.740683 & 0.697315 & 0.636743 & 0.635783 & 0.637545 & $\\dots$ \\\\\n",
       "\t3 & 3039 & CCCMA\\_R3 & 0.952864 & 0.74244 & 0.698499 & 0.631515 & 0.632762 & 0.635284 & $\\dots$ \\\\\n",
       "\t4 & 3039 & CSIRO\\_R1 & 0.952946 & 0.752189 & 0.727038 & 0.699278 & 0.694496 & 0.684893 & $\\dots$ \\\\\n",
       "\t5 & 3039 & CSIRO\\_R2 & 0.952938 & 0.747661 & 0.717347 & 0.682489 & 0.672919 & 0.664046 & $\\dots$ \\\\\n",
       "\t6 & 3039 & CSIRO\\_R3 & 0.952742 & 0.735542 & 0.692134 & 0.642075 & 0.656035 & 0.668263 & $\\dots$ \\\\\n",
       "\t7 & 3039 & ECHAM\\_R1 & 0.952658 & 0.739759 & 0.698253 & 0.647633 & 0.663895 & 0.502897 & $\\dots$ \\\\\n",
       "\t8 & 3039 & ECHAM\\_R2 & 0.952495 & 0.73289 & 0.683032 & 0.62385 & 0.643952 & 0.660906 & $\\dots$ \\\\\n",
       "\t9 & 3039 & ECHAM\\_R3 & 0.952872 & 0.740993 & 0.700543 & 0.651823 & 0.657173 & 0.662571 & $\\dots$ \\\\\n",
       "\t10 & 3039 & MIROC\\_R1 & 0.952958 & 0.754306 & 0.726651 & 0.69063 & 0.714199 & 0.734797 & $\\dots$ \\\\\n",
       "\t11 & 3039 & MIROC\\_R2 & 0.952982 & 0.749392 & 0.716637 & 0.675169 & 0.692576 & 0.708242 & $\\dots$ \\\\\n",
       "\t12 & 3039 & MIROC\\_R3 & 0.953264 & 0.744294 & 0.707119 & 0.662295 & 0.692179 & 0.719248 & $\\dots$ \\\\\n",
       "\t13 & 3162 & CCCMA\\_R1 & 0.906112 & 0.576728 & 0.551484 & 0.519338 & 0.519472 & 0.519153 & $\\dots$ \\\\\n",
       "\t14 & 3162 & CCCMA\\_R2 & 0.906094 & 0.569935 & 0.541646 & 0.501931 & 0.504094 & 0.506128 & $\\dots$ \\\\\n",
       "\t15 & 3162 & CCCMA\\_R3 & 0.906104 & 0.57085 & 0.54285 & 0.502236 & 0.502281 & 0.502064 & $\\dots$ \\\\\n",
       "\t16 & 3162 & CSIRO\\_R1 & 0.906162 & 0.57106 & 0.54356 & 0.514832 & 0.524081 & 0.528423 & $\\dots$ \\\\\n",
       "\t17 & 3162 & CSIRO\\_R2 & 0.906145 & 0.570611 & 0.540419 & 0.505225 & 0.508586 & 0.511858 & $\\dots$ \\\\\n",
       "\t18 & 3162 & CSIRO\\_R3 & 0.905982 & 0.567452 & 0.536161 & 0.497708 & 0.50584 & 0.513636 & $\\dots$ \\\\\n",
       "\t19 & 3162 & ECHAM\\_R1 & 0.905911 & 0.566107 & 0.536886 & 0.492898 & 0.511741 & 0.426391 & $\\dots$ \\\\\n",
       "\t20 & 3162 & ECHAM\\_R2 & 0.905791 & 0.569964 & 0.547519 & 0.511668 & 0.513022 & 0.513984 & $\\dots$ \\\\\n",
       "\t21 & 3162 & ECHAM\\_R3 & 0.906123 & 0.573104 & 0.55302 & 0.524609 & 0.533144 & 0.540893 & $\\dots$ \\\\\n",
       "\t22 & 3162 & MIROC\\_R1 & 0.906206 & 0.578505 & 0.554884 & 0.523834 & 0.544952 & 0.564005 & $\\dots$ \\\\\n",
       "\t23 & 3162 & MIROC\\_R2 & 0.906149 & 0.57042 & 0.536166 & 0.488283 & 0.501957 & 0.514423 & $\\dots$ \\\\\n",
       "\t24 & 3162 & MIROC\\_R3 & 0.906363 & 0.573332 & 0.545649 & 0.514154 & 0.539461 & 0.561909 & $\\dots$ \\\\\n",
       "\t$\\dots$ & $\\dots$ & $\\dots$ & $\\dots$ & $\\dots$ & $\\dots$ & $\\dots$ & $\\dots$ & $\\dots$ &  \\\\\n",
       "\\end{tabular}\n"
      ],
      "text/plain": [
       "\u001b[1m114444×10 DataFrame\u001b[0m\n",
       "\u001b[1m    Row \u001b[0m│\u001b[1m NewPropID \u001b[0m\u001b[1m climate_model \u001b[0m\u001b[1m t0       \u001b[0m\u001b[1m t1       \u001b[0m\u001b[1m t2       \u001b[0m\u001b[1m t3       \u001b[0m\u001b[1m t4\u001b[0m ⋯\n",
       "\u001b[1m        \u001b[0m│\u001b[90m Int64     \u001b[0m\u001b[90m String15      \u001b[0m\u001b[90m Float64  \u001b[0m\u001b[90m Float64  \u001b[0m\u001b[90m Float64  \u001b[0m\u001b[90m Float64  \u001b[0m\u001b[90m Fl\u001b[0m ⋯\n",
       "────────┼───────────────────────────────────────────────────────────────────────\n",
       "      1 │      3039  CCCMA_R1       0.952858  0.751328  0.719133  0.671101  0. ⋯\n",
       "      2 │      3039  CCCMA_R2       0.952868  0.740683  0.697315  0.636743  0.\n",
       "      3 │      3039  CCCMA_R3       0.952864  0.74244   0.698499  0.631515  0.\n",
       "      4 │      3039  CSIRO_R1       0.952946  0.752189  0.727038  0.699278  0.\n",
       "      5 │      3039  CSIRO_R2       0.952938  0.747661  0.717347  0.682489  0. ⋯\n",
       "      6 │      3039  CSIRO_R3       0.952742  0.735542  0.692134  0.642075  0.\n",
       "      7 │      3039  ECHAM_R1       0.952658  0.739759  0.698253  0.647633  0.\n",
       "      8 │      3039  ECHAM_R2       0.952495  0.73289   0.683032  0.62385   0.\n",
       "   ⋮    │     ⋮            ⋮           ⋮         ⋮         ⋮         ⋮         ⋱\n",
       " 114438 │ 174693554  CSIRO_R3       1.53649   1.37683   1.31202   1.23084   1. ⋯\n",
       " 114439 │ 174693554  ECHAM_R1       1.53611   1.34506   1.22816   1.05486   1.\n",
       " 114440 │ 174693554  ECHAM_R2       1.53599   1.34166   1.216     1.01794   1.\n",
       " 114441 │ 174693554  ECHAM_R3       1.53658   1.36245   1.27123   1.14385   1.\n",
       " 114442 │ 174693554  MIROC_R1       1.53685   1.38009   1.30838   1.2027    1. ⋯\n",
       " 114443 │ 174693554  MIROC_R2       1.53673   1.35665   1.24566   1.05394   1.\n",
       " 114444 │ 174693554  MIROC_R3       1.53701   1.37464   1.30277   1.21021   1.\n",
       "\u001b[36m                                               4 columns and 114429 rows omitted\u001b[0m"
      ]
     },
     "metadata": {},
     "output_type": "display_data"
    }
   ],
   "source": [
    "climateProjList = [\"CCCMA_R1\", \"CCCMA_R2\", \"CCCMA_R3\", \"CSIRO_R1\", \"CSIRO_R2\", \"CSIRO_R3\", \"ECHAM_R1\", \"ECHAM_R2\", \"ECHAM_R3\", \"MIROC_R1\", \"MIROC_R2\", \"MIROC_R3\"];\n",
    "metric_subset"
   ]
  },
  {
   "cell_type": "code",
   "execution_count": 68,
   "metadata": {},
   "outputs": [],
   "source": [
    "N = length(unique(metric_subset.NewPropID))\n",
    "S = length(climateProjList)\n",
    "M₁ = zeros(N, length(1:(tt-1)), S)\n",
    "M₂ = zeros(N, length(tt:length(t_symbols)), S)\n",
    "for t=1:length(t_symbols)\n",
    "  for s=1:S\n",
    "    metric_unstacked = unstack(metric_subset, :NewPropID, :climate_model, t_symbols[t])\n",
    "    if (t < tt)\n",
    "      M₁[:,t,:] = Matrix(metric_unstacked[:, climateProjList])\n",
    "    else\n",
    "      M₂[:,t-tt+1,:] = Matrix(metric_unstacked[:, climateProjList])\n",
    "    end\n",
    "  end\n",
    "end"
   ]
  },
  {
   "cell_type": "code",
   "execution_count": 69,
   "metadata": {},
   "outputs": [
    {
     "data": {
      "text/plain": [
       "Realisation([12432.384199054242, 9874.475325585636, 12056.32175033267, 133523.5588664438, 140181.62088322485, 172174.98385832383, 173319.1040696074, 150586.13521790563, 98575.10522015524, 18890.70256603912  …  138562.5829890136, 781776.5238447646, 340520.8282488327, 578458.7222795164, 57029.356948896595, 1.6321440280791444e6, 4.636846715301958e6, 42641.481241635, 165754.5185489979, 11764.13696684975], [22519.543136980406, 17886.245267942286, 21838.358064142318, 241859.4451034392, 253919.60286521405, 311871.1515045831, 313943.5669028983, 272765.94043230754, 178555.1587447353, 34217.892924845924  …  250986.93982043222, 1.4160799626462667e6, 616806.346876992, 1.0477979075266273e6, 103300.786343349, 2.9564029921862693e6, 8.39900601147379e6, 77239.14101036148, 300241.3672912018, 21309.105771881797], [0.9528583023712631 0.7513279267461038 0.7191326699118952; 0.906112065442047 0.5767276008118271 0.5514838844466012; … ; 22.647864163716072 10.968161164922671 10.968161164922671; 1.5363633442194415 1.36189497097813 1.2600348623011601;;; 0.9528682091160162 0.7406832419151138 0.6973149455255814; 0.9060939700617038 0.5699346916074307 0.5416463258400092; … ; 22.643799328775234 10.968161164922671 10.968161164922671; 1.536403305397638 1.3554851830426857 1.2448945101665014;;; 0.9528641475005426 0.7424400030138237 0.6984991537300976; 0.9061035006342161 0.5708496773983275 0.5428502277597574; … ; 22.64349191942218 10.968161164922671 10.968161164922671; 1.53646494803828 1.3488515526984106 1.2331366157006247;;; … ;;; 0.9529578793941682 0.7543057803138347 0.726651394591718; 0.9062062020836082 0.5785045315807323 0.554883960666354; … ; 22.643825566076348 10.968161164922671 10.968161164922671; 1.5368456446133525 1.3800905028441433 1.3083825796987552;;; 0.9529821291869226 0.7493920199287325 0.7166367547470147; 0.9061486882553542 0.5704197087962946 0.5361656366888204; … ; 22.644309052998363 10.968161164922671 10.968161164922671; 1.5367341346090868 1.3566516457222388 1.245656950007937;;; 0.9532639843182824 0.7442944826840783 0.7071185012657398; 0.9063627576214095 0.5733322263411803 0.5456492933694573; … ; 22.64304510079918 10.968161164922671 10.968161164922671; 1.537006311726438 1.374639185076105 1.3027668940162833], [0.6711012342957523 0.6668482283069205 … 0.6570561979627002 0.6526672402618315; 0.519338356201739 0.519472114610091 … 0.5183129174291402 0.516856417215527; … ; 10.968161164922671 10.968161164922671 … 10.968161164922671 10.968161164922671; 1.0935954336579692 1.0832989819063958 … 1.059506604801139 1.046988401258239;;; 0.6367427850402657 0.6357833145627909 … 0.640699353049561 0.6437441258537868; 0.5019306003115109 0.5040943706649738 … 0.5079848266090572 0.5097269136048578; … ; 10.968161164922671 10.968161164922671 … 10.968161164922671 10.968161164922671; 1.0611188084431002 1.059645440924452 … 1.0560534954702507 1.0572544241987254;;; 0.631514751537569 0.632761997213238 … 0.639514440432029 0.6437687952968485; 0.5022361885885439 0.502281274550242 … 0.5015417783678708 0.500620413447106; … ; 10.968161164922671 10.968161164922671 … 10.968161164922671 10.968161164922671; 1.0479230218169555 1.0396128910800193 … 1.0253608060326422 1.0267900629897642;;; … ;;; 0.6906303058064325 0.7141986913744902 … 0.7532960417245561 0.7700640690012419; 0.5238336095700202 0.5449516554615602 … 0.5815920304369432 0.5978364973537551; … ; 10.968161164922671 10.968161164922671 … 10.968161164922671 10.968161164922671; 1.2026966648278303 1.2650002910194342 … 1.3647681011886084 1.4061703116192035;;; 0.6751692644241544 0.6925764640813092 … 0.7225925368200316 0.7358454532231341; 0.4882825917402183 0.5019570825956651 … 0.5259796657660403 0.536767130181214; … ; 10.968161164922671 10.968161164922671 … 10.968161164922671 10.968161164922671; 1.0539380949904014 1.1911789860131141 … 1.360389604611459 1.4206545004602396;;; 0.6622949775107647 0.6921794599031433 … 0.7442687191527155 0.7675958807316616; 0.5141540043185314 0.5394611561743988 … 0.5824154464871422 0.6013914771454071; … ; 10.968161164922671 10.968161164922671 … 10.968161164922671 10.968161164922671; 1.2102101887290635 1.2813370486809197 … 1.3985745103061735 1.450713455703307], [1.0, 1.0, 1.0, 1.0, 1.0, 1.0, 1.0, 1.0, 1.0, 1.0  …  1.0, 1.0, 1.0, 1.0, 1.0, 1.0, 1.0, 1.0, 1.0, 1.0], [0.08333333333333333, 0.08333333333333333, 0.08333333333333333, 0.08333333333333333, 0.08333333333333333, 0.08333333333333333, 0.08333333333333333, 0.08333333333333333, 0.08333333333333333, 0.08333333333333333, 0.08333333333333333, 0.08333333333333333])"
      ]
     },
     "metadata": {},
     "output_type": "display_data"
    }
   ],
   "source": [
    "r = Realisation(cost_subset.cost_before, cost_subset.cost_after, M₁, M₂)"
   ]
  },
  {
   "cell_type": "code",
   "execution_count": 70,
   "metadata": {},
   "outputs": [
    {
     "data": {
      "text/plain": [
       "12-element Vector{Vector{Float64}}:\n",
       " [287385.3971800607, 278266.3003196805, 269619.59996243706, 262059.35087797587, 255985.44202846126]\n",
       " [279578.0825761811, 271570.48017885897, 263998.0891830905, 257320.40535914357, 251833.18617252033]\n",
       " [283207.91745669086, 277523.0282164429, 271981.8527398872, 266919.0888236627, 262626.22682727]\n",
       " [290409.3395039771, 284905.59255746694, 279184.5140362365, 273859.50279106724, 269051.6794065286]\n",
       " [292859.59337934316, 286980.5484465358, 281346.2657746483, 276202.4192896288, 271673.29956002586]\n",
       " [289584.0746719709, 285529.50941096677, 281471.0864096532, 277582.5211830083, 273974.06225072924]\n",
       " [290179.59314169135, 280205.08648061723, 240710.08001171917, 238841.19772634064, 257009.67226389094]\n",
       " [290330.0521879771, 282772.4380735157, 275472.6117483712, 269030.5673790496, 263887.9993910194]\n",
       " [285212.48577986285, 277950.36105164106, 271368.7259310348, 265972.69994169223, 261986.42633442488]\n",
       " [290464.2492639938, 281302.35578066134, 272730.6699117871, 265566.0468706562, 260253.17025797116]\n",
       " [286075.0701989684, 278063.9908061451, 270477.91860166896, 264029.41043143126, 259191.93732632257]\n",
       " [290054.6143384624, 283579.6620292661, 277199.4757090972, 271498.7217365851, 266922.6943645869]"
      ]
     },
     "metadata": {},
     "output_type": "display_data"
    }
   ],
   "source": [
    "[sum.(eachcol(M₂[:,:,s])) for s=1:S]"
   ]
  },
  {
   "cell_type": "code",
   "execution_count": 71,
   "metadata": {},
   "outputs": [
    {
     "name": "stdout",
     "output_type": "stream",
     "text": [
      "Set parameter Username\r\n",
      "Academic license - for non-commercial use only - expires 2023-12-16\r\n",
      "Gurobi Optimizer version 9.5.2 build v9.5.2rc0 (win64)\r\n",
      "Thread count: 6 physical cores, 6 logical processors, using up to 6 threads\r\n",
      "Optimize a model with 228985 rows, 238426 columns and 2756194 nonzeros\r\n",
      "Model fingerprint: 0x97e77682\r\n",
      "Coefficient statistics:\r\n",
      "  Matrix range     [3e-01, 2e+08]\r\n",
      "  Objective range  [1e+00, 1e+00]\r\n",
      "  Bounds range     [1e+00, 1e+00]\r\n",
      "  RHS range        [1e+00, 7e+03]\r\n",
      "Warning: Model contains large matrix coefficients\r\n",
      "         Consider reformulating model or setting NumericFocus parameter\r\n",
      "         to avoid numerical issues.\r\n",
      "\r\n",
      "Concurrent LP optimizer: primal simplex, dual simplex, and barrier\r\n",
      "Showing barrier log only...\r\n",
      "\r\n",
      "Presolve removed 228889 rows and 228889 columns\r\n",
      "Presolve time: 0.50s\r\n",
      "Presolved: 96 rows, 9537 columns, 915552 nonzeros\r\n",
      "\r\n",
      "Ordering time: 0.00s\r\n",
      "\r\n",
      "Barrier statistics:\r\n",
      " AA' NZ     : 4.560e+03\r\n",
      " Factor NZ  : 4.656e+03 (roughly 4 MB of memory)\r\n",
      " Factor Ops : 2.995e+05 (less than 1 second per iteration)\r\n",
      " Threads    : 4\r\n",
      "\r\n",
      "                  Objective                Residual\r\n",
      "Iter       Primal          Dual         Primal    Dual     Compl     Time\r\n",
      "   0   4.06738613e+11 -3.32929844e+10  1.38e+01 1.68e+06  1.33e+08     1s\r\n",
      "   1   2.83018549e+10 -2.79539598e+10  1.11e+00 1.68e+06  1.07e+07     1s\r\n",
      "   2   5.43152435e+09 -1.21086055e+10  1.82e-01 4.24e+05  2.35e+06     1s\r\n",
      "   3   1.36851763e+09 -5.62139582e+09  2.49e-02 1.15e+05  6.45e+05     1s\r\n",
      "   4   7.76862074e+08 -4.61119203e+09  8.18e-03 8.95e+04  4.03e+05     1s\r\n",
      "   5   2.92439407e+08 -3.40341546e+09  0.00e+00 6.33e+04  2.01e+05     1s\r\n",
      "   6   3.51187425e+08 -4.26206824e+08  0.00e+00 9.75e+03  4.27e+04     1s\r\n",
      "   7   3.24606181e+08 -1.79603047e+08  0.00e+00 4.44e+03  2.72e+04     1s\r\n",
      "   8   2.36500139e+08 -3.22899978e+06  0.00e+00 1.55e+03  1.27e+04     1s\r\n",
      "   9   2.37052435e+08  1.52059248e+07  0.00e+00 1.37e+03  1.17e+04     1s\r\n",
      "  10   2.30997591e+08  5.32329905e+07  0.00e+00 9.74e+02  9.38e+03     1s\r\n",
      "  11   2.22490012e+08  6.33153649e+07  0.00e+00 8.62e+02  8.40e+03     1s\r\n",
      "  12   2.13980275e+08  6.97083582e+07  0.00e+00 6.85e+02  7.60e+03     1s\r\n",
      "  13   2.06133552e+08  9.54390225e+07  0.00e+00 2.36e+02  5.80e+03     1s\r\n",
      "  14   1.85366906e+08  1.07521935e+08  0.00e+00 1.65e+02  4.08e+03     1s\r\n",
      "  15   1.80285561e+08  1.13451523e+08  0.00e+00 1.28e+02  3.50e+03     1s\r\n",
      "\r\n",
      "Barrier performed 15 iterations in 0.85 seconds (0.58 work units)\r\n",
      "Barrier solve interrupted - model solved by another algorithm\r\n",
      "\r\n",
      "\r\n",
      "Solved with dual simplex\r\n",
      "Solved in 13 iterations and 0.85 seconds (0.47 work units)\r\n",
      "Optimal objective  1.306978287e+08\r\n",
      "\r\n",
      "User-callback calls 121, time in user-callback 0.00 sec\r\n",
      "Set parameter Username\r\n",
      "Academic license - for non-commercial use only - expires 2023-12-16\r\n",
      "Gurobi Optimizer version 9.5.2 build v9.5.2rc0 (win64)\r\n",
      "Thread count: 6 physical cores, 6 logical processors, using up to 6 threads\r\n",
      "Optimize a model with 228985 rows, 238426 columns and 2756194 nonzeros\r\n",
      "Model fingerprint: 0x811e2d74\r\n",
      "Coefficient statistics:\r\n",
      "  Matrix range     [3e-01, 2e+08]\r\n",
      "  Objective range  [1e+00, 1e+00]\r\n",
      "  Bounds range     [1e+00, 1e+00]\r\n",
      "  RHS range        [1e+00, 7e+03]\r\n",
      "Warning: Model contains large matrix coefficients\r\n",
      "         Consider reformulating model or setting NumericFocus parameter\r\n",
      "         to avoid numerical issues.\r\n",
      "\r\n",
      "Concurrent LP optimizer: primal simplex, dual simplex, and barrier\r\n",
      "Showing barrier log only...\r\n",
      "\r\n",
      "Presolve removed 114445 rows and 114445 columns\r\n",
      "Presolve time: 1.26s\r\n",
      "Presolved: 114540 rows, 123981 columns, 1716660 nonzeros\r\n",
      "\r\n",
      "Ordering time: 0.15s\r\n",
      "\r\n",
      "Barrier performed 0 iterations in 1.93 seconds (0.75 work units)\r\n",
      "Barrier solve interrupted - model solved by another algorithm\r\n",
      "\r\n",
      "\r\n",
      "Solved with dual simplex\r\n",
      "Solved in 374 iterations and 1.94 seconds (0.96 work units)\r\n",
      "Optimal objective  9.079764309e+07\r\n",
      "\r\n",
      "User-callback calls 58, time in user-callback 0.00 sec\r\n",
      "Set parameter Username\r\n",
      "Academic license - for non-commercial use only - expires 2023-12-16\r\n",
      "Gurobi Optimizer version 9.5.2 build v9.5.2rc0 (win64)\r\n",
      "Thread count: 6 physical cores, 6 logical processors, using up to 6 threads\r\n",
      "Optimize a model with 228985 rows, 238426 columns and 2756194 nonzeros\r\n",
      "Model fingerprint: 0x843ce25f\r\n",
      "Coefficient statistics:\r\n",
      "  Matrix range     [3e-01, 2e+08]\r\n",
      "  Objective range  [1e+00, 1e+00]\r\n",
      "  Bounds range     [1e+00, 1e+00]\r\n",
      "  RHS range        [1e+00, 7e+03]\r\n",
      "Warning: Model contains large matrix coefficients\r\n",
      "         Consider reformulating model or setting NumericFocus parameter\r\n",
      "         to avoid numerical issues.\r\n",
      "\r\n",
      "Concurrent LP optimizer: primal simplex, dual simplex, and barrier\r\n",
      "Showing barrier log only...\r\n",
      "\r\n",
      "Presolve removed 114445 rows and 114445 columns\r\n",
      "Presolve time: 1.45s\r\n",
      "Presolved: 114540 rows, 123981 columns, 1716660 nonzeros\r\n",
      "\r\n",
      "Ordering time: 0.23s\r\n",
      "\r\n",
      "Barrier statistics:\r\n",
      " AA' NZ     : 1.162e+07\r\n",
      " Factor NZ  : 1.174e+07 (roughly 200 MB of memory)\r\n",
      " Factor Ops : 1.204e+09 (less than 1 second per iteration)\r\n",
      " Threads    : 4\r\n",
      "\r\n",
      "                  Objective                Residual\r\n",
      "Iter       Primal          Dual         Primal    Dual     Compl     Time\r\n",
      "   0   1.84128308e+11 -2.93689440e+11  3.47e+04 5.54e+05  1.51e+08     3s\r\n",
      "   1   1.20667683e+10 -2.71824112e+11  2.07e+03 6.74e+05  1.03e+07     3s\r\n",
      "   2   2.58476613e+09 -1.93641312e+11  7.53e+01 3.31e+05  1.91e+06     4s\r\n",
      "   3   3.81563049e+09 -1.51616360e+11  6.47e-01 2.31e+05  1.04e+06     4s\r\n",
      "   4   3.89841965e+09 -1.04920217e+11  2.84e-01 1.45e+05  5.74e+05     4s\r\n",
      "   5   3.19347117e+09 -1.95747364e+10  4.87e-02 8.94e+03  8.78e+04     5s\r\n",
      "   6   1.58336101e+09 -5.16225223e+09  0.00e+00 1.92e+03  1.90e+04     5s\r\n",
      "   7   6.58636193e+08 -1.55422866e+09  0.00e+00 5.58e+02  6.15e+03     6s\r\n",
      "   8   5.22957471e+08 -3.92053885e+08  0.00e+00 1.28e+02  2.53e+03     6s\r\n",
      "   9   4.38432862e+08 -2.98114583e+08  0.00e+00 1.00e+02  2.04e+03     6s\r\n",
      "  10   3.63441877e+08 -2.06368107e+08  0.00e+00 7.78e+01  1.57e+03     7s\r\n",
      "  11   3.05445479e+08 -1.57861340e+08  0.00e+00 6.76e+01  1.28e+03     7s\r\n",
      "  12   2.92284467e+08 -1.36676572e+08  0.00e+00 6.00e+01  1.19e+03     7s\r\n",
      "  13   2.81778972e+08 -8.88314909e+07  0.00e+00 4.90e+01  1.02e+03     8s\r\n",
      "  14   2.39890675e+08 -3.59244841e+07  0.00e+00 4.49e+01  7.62e+02     8s\r\n",
      "  15   2.28164298e+08 -1.00914235e+07  0.00e+00 3.73e+01  6.58e+02     9s\r\n",
      "  16   2.15052516e+08 -9.46278093e+05  0.00e+00 3.30e+01  5.96e+02     9s\r\n",
      "  17   2.02102060e+08  2.16400936e+07  0.00e+00 2.62e+01  4.98e+02     9s\r\n",
      "  18   1.99077017e+08  3.50054039e+07  0.00e+00 2.22e+01  4.53e+02    10s\r\n",
      "  19   1.81996317e+08  4.67243108e+07  0.00e+00 1.84e+01  3.73e+02    10s\r\n",
      "  20   1.78054322e+08  5.42362702e+07  0.00e+00 1.62e+01  3.42e+02    10s\r\n",
      "  21   1.71246561e+08  6.11433247e+07  0.00e+00 1.45e+01  3.04e+02    11s\r\n",
      "  22   1.66165573e+08  7.03277385e+07  0.00e+00 1.22e+01  2.65e+02    11s\r\n",
      "  23   1.60642934e+08  8.12814996e+07  0.00e+00 9.62e+00  2.19e+02    11s\r\n",
      "  24   1.56836912e+08  8.41616221e+07  0.00e+00 8.71e+00  2.01e+02    12s\r\n",
      "  25   1.54005769e+08  8.78246139e+07  0.00e+00 7.68e+00  1.83e+02    12s\r\n",
      "  26   1.48360505e+08  9.17816532e+07  0.00e+00 6.75e+00  1.56e+02    13s\r\n",
      "  27   1.44508507e+08  9.68384443e+07  0.00e+00 5.16e+00  1.32e+02    13s\r\n",
      "  28   1.39177311e+08  1.00662416e+08  0.00e+00 3.53e+00  1.06e+02    14s\r\n",
      "  29   1.37745865e+08  1.03358596e+08  0.00e+00 2.72e+00  9.49e+01    14s\r\n",
      "  30   1.33147910e+08  1.04944060e+08  0.00e+00 1.97e+00  7.78e+01    15s\r\n",
      "  31   1.29605983e+08  1.07359386e+08  0.00e+00 1.17e+00  6.14e+01    15s\r\n",
      "  32   1.27378073e+08  1.08636080e+08  0.00e+00 8.34e-01  5.17e+01    16s\r\n",
      "  33   1.20899500e+08  1.08999405e+08  0.00e+00 9.00e-01  3.28e+01    16s\r\n",
      "  34   1.19456828e+08  1.09577270e+08  0.00e+00 7.08e-01  2.73e+01    16s\r\n",
      "  35   1.17265759e+08  1.10586618e+08  0.00e+00 3.23e-01  1.84e+01    17s\r\n",
      "  36   1.16847770e+08  1.10874628e+08  0.00e+00 2.48e-01  1.65e+01    17s\r\n",
      "  37   1.16371274e+08  1.11196911e+08  0.00e+00 1.58e-01  1.43e+01    17s\r\n",
      "  38   1.14123458e+08  1.11319798e+08  0.00e+00 1.09e-01  7.74e+00    18s\r\n",
      "  39   1.13822182e+08  1.11470328e+08  0.00e+00 6.72e-02  6.49e+00    18s\r\n",
      "  40   1.13692323e+08  1.11527785e+08  0.00e+00 5.43e-02  5.97e+00    19s\r\n",
      "  41   1.13406463e+08  1.11553119e+08  0.00e+00 4.86e-02  5.11e+00    19s\r\n",
      "  42   1.13239500e+08  1.11604966e+08  0.00e+00 3.44e-02  4.51e+00    19s\r\n",
      "  43   1.12762741e+08  1.11709068e+08  0.00e+00 5.91e-03  2.91e+00    20s\r\n",
      "  44   1.12084518e+08  1.11736079e+08  0.00e+00 2.83e-09  9.61e-01    20s\r\n",
      "  45   1.12053856e+08  1.11740714e+08  0.00e+00 2.60e-09  8.64e-01    20s\r\n",
      "  46   1.11859037e+08  1.11744899e+08  0.00e+00 2.37e-09  3.15e-01    20s\r\n",
      "  47   1.11853281e+08  1.11747378e+08  0.00e+00 2.54e-09  2.92e-01    21s\r\n",
      "  48   1.11824362e+08  1.11751170e+08  0.00e+00 2.91e-09  2.02e-01    21s\r\n",
      "  49   1.11814779e+08  1.11752036e+08  0.00e+00 3.19e-09  1.73e-01    21s\r\n",
      "  50   1.11790689e+08  1.11752994e+08  0.00e+00 2.69e-09  1.04e-01    21s\r\n",
      "  51   1.11774478e+08  1.11753173e+08  0.00e+00 2.58e-09  5.88e-02    22s\r\n",
      "  52   1.11754372e+08  1.11753344e+08  0.00e+00 2.78e-09  2.83e-03    22s\r\n",
      "  53   1.11753688e+08  1.11753681e+08  0.00e+00 3.68e-09  1.86e-05    22s\r\n",
      "  54   1.11753684e+08  1.11753684e+08  9.49e-12 2.84e-09  2.73e-11    22s\r\n",
      "\r\n",
      "Barrier solved model in 54 iterations and 22.26 seconds (9.73 work units)\r\n",
      "Optimal objective 1.11753684e+08\r\n",
      "\r\n",
      "Crossover log...\r\n",
      "\r\n",
      "  113708 DPushes remaining with DInf 0.0000000e+00                22s\r\n",
      "       0 DPushes remaining with DInf 0.0000000e+00                23s\r\n",
      "\r\n",
      "       0 PPushes remaining with PInf 0.0000000e+00                23s\r\n",
      "\r\n",
      "  Push phase complete: Pinf 0.0000000e+00, Dinf 1.4119337e-08     23s\r\n",
      "\r\n",
      "Iteration    Objective       Primal Inf.    Dual Inf.      Time\r\n",
      "  101098    1.1175368e+08   0.000000e+00   0.000000e+00     23s\r\n",
      "\r\n",
      "Solved with barrier\r\n",
      "Solved in 101098 iterations and 23.20 seconds (10.12 work units)\r\n",
      "Optimal objective  1.117536840e+08\r\n",
      "\r\n",
      "User-callback calls 114661, time in user-callback 0.02 sec\r\n",
      "Set parameter Username\r\n",
      "Academic license - for non-commercial use only - expires 2023-12-16\r\n",
      "Gurobi Optimizer version 9.5.2 build v9.5.2rc0 (win64)\r\n",
      "Thread count: 6 physical cores, 6 logical processors, using up to 6 threads\r\n",
      "Optimize a model with 228985 rows, 238426 columns and 2756194 nonzeros\r\n",
      "Model fingerprint: 0xb2928028\r\n",
      "Coefficient statistics:\r\n",
      "  Matrix range     [3e-01, 2e+08]\r\n",
      "  Objective range  [1e+00, 1e+00]\r\n",
      "  Bounds range     [1e+00, 1e+00]\r\n",
      "  RHS range        [1e+00, 7e+03]\r\n",
      "Warning: Model contains large matrix coefficients\r\n",
      "         Consider reformulating model or setting NumericFocus parameter\r\n",
      "         to avoid numerical issues.\r\n",
      "\r\n",
      "Concurrent LP optimizer: primal simplex, dual simplex, and barrier\r\n",
      "Showing barrier log only...\r\n",
      "\r\n",
      "Presolve removed 1 rows and 1 columns\r\n",
      "Presolve time: 1.63s\r\n",
      "Presolved: 228984 rows, 238425 columns, 2517768 nonzeros\r\n",
      "\r\n",
      "Ordering time: 0.75s\r\n",
      "\r\n",
      "Barrier statistics:\r\n",
      " AA' NZ     : 2.461e+07\r\n",
      " Factor NZ  : 2.484e+07 (roughly 400 MB of memory)\r\n",
      " Factor Ops : 2.706e+09 (less than 1 second per iteration)\r\n",
      " Threads    : 4\r\n",
      "\r\n",
      "                  Objective                Residual\r\n",
      "Iter       Primal          Dual         Primal    Dual     Compl     Time\r\n",
      "   0   7.72716052e+11 -1.00721751e+11  1.01e+02 1.16e-10  4.99e+07     5s\r\n",
      "   1   2.42522725e+10 -1.18972387e+11  6.27e+00 2.06e+05  1.77e+06     5s\r\n",
      "   2   7.30012929e+09 -8.42808586e+10  1.57e+00 9.62e+04  5.46e+05     5s\r\n",
      "\r\n",
      "Barrier performed 2 iterations in 5.47 seconds (2.09 work units)\r\n",
      "Barrier solve interrupted - model solved by another algorithm\r\n",
      "\r\n",
      "\r\n",
      "Solved with dual simplex\r\n",
      "Solved in 1458 iterations and 5.51 seconds (6.33 work units)\r\n",
      "Optimal objective  8.823264559e+07\r\n",
      "\r\n",
      "User-callback calls 180, time in user-callback 0.00 sec\r\n"
     ]
    },
    {
     "data": {
      "text/plain": [
       "(model = A JuMP Model\n",
       "Minimization problem with:\n",
       "Variables: 238426\n",
       "Objective function type: VariableRef\n",
       "`AffExpr`-in-`MathOptInterface.GreaterThan{Float64}`: 114541 constraints\n",
       "`AffExpr`-in-`MathOptInterface.LessThan{Float64}`: 114444 constraints\n",
       "`VariableRef`-in-`MathOptInterface.GreaterThan{Float64}`: 238425 constraints\n",
       "`VariableRef`-in-`MathOptInterface.LessThan{Float64}`: 238425 constraints\n",
       "Model mode: AUTOMATIC\n",
       "CachingOptimizer state: ATTACHED_OPTIMIZER\n",
       "Solver name: Gurobi\n",
       "Names registered in the model: w, x, y, z, obj_value = 8.823264558816351e7, x = [0.0, 0.0, 0.0, 0.0, 0.0, 0.0, 0.0, 0.0, 0.0, 0.0  …  0.0, 0.0, 0.0, 0.0, 1.0, 0.0, 0.0, 0.0, 0.0, 0.0], y = [0.0 0.0 … 0.0 0.0; 0.0 0.0 … 0.0 0.0; … ; 0.0 0.0 … 0.0 0.0; 0.0 0.0 … 0.0 0.0], w = [0.0 0.0 … 0.0 0.0; 0.0 0.0 … 0.0 0.0; … ; 0.0 0.0 … 0.0 0.0; 0.0 0.0 … 0.0 0.0])"
      ]
     },
     "metadata": {},
     "output_type": "display_data"
    }
   ],
   "source": [
    "solution_no_recourse = fcn_two_stage_opt_saa([r], add_recourse = false, terminate_recourse = false)\n",
    "solution_add_recourse = fcn_two_stage_opt_saa([r], add_recourse = true, terminate_recourse = false)\n",
    "solution_terminate_recourse = fcn_two_stage_opt_saa([r], add_recourse = false, terminate_recourse = true)\n",
    "solution_full_recourse = fcn_two_stage_opt_saa([r], add_recourse = true, terminate_recourse = true)"
   ]
  },
  {
   "cell_type": "code",
   "execution_count": 72,
   "metadata": {},
   "outputs": [
    {
     "data": {
      "text/plain": [
       "1.3069782869306749e8"
      ]
     },
     "metadata": {},
     "output_type": "display_data"
    }
   ],
   "source": [
    "objective_value(solution_no_recourse.model)\n"
   ]
  },
  {
   "cell_type": "code",
   "execution_count": 73,
   "metadata": {},
   "outputs": [
    {
     "data": {
      "text/plain": [
       "8.823264558816351e7"
      ]
     },
     "metadata": {},
     "output_type": "display_data"
    }
   ],
   "source": [
    "objective_value(solution_full_recourse.model)"
   ]
  },
  {
   "cell_type": "code",
   "execution_count": 74,
   "metadata": {},
   "outputs": [
    {
     "data": {
      "text/plain": [
       "9.079764309146556e7"
      ]
     },
     "metadata": {},
     "output_type": "display_data"
    }
   ],
   "source": [
    "objective_value(solution_add_recourse.model)"
   ]
  },
  {
   "cell_type": "code",
   "execution_count": 75,
   "metadata": {},
   "outputs": [
    {
     "data": {
      "text/plain": [
       "36.07878279002094"
      ]
     },
     "metadata": {},
     "output_type": "display_data"
    }
   ],
   "source": [
    "\n",
    "sum(value.(solution_full_recourse.model[:x]) .- value.(solution_full_recourse.model[:w])[:,10])"
   ]
  },
  {
   "cell_type": "code",
   "execution_count": 76,
   "metadata": {},
   "outputs": [
    {
     "data": {
      "text/plain": [
       "3.0161628092569586e7"
      ]
     },
     "metadata": {},
     "output_type": "display_data"
    }
   ],
   "source": [
    "r.C₁' * value.(solution_full_recourse.model[:x])"
   ]
  },
  {
   "cell_type": "code",
   "execution_count": 77,
   "metadata": {},
   "outputs": [
    {
     "data": {
      "text/plain": [
       "([8.668415448786359e7; 9.06981694978467e7; … ; 8.509157454779565e7; 8.453114827258633e7;;], [7655.322715887657 7143.731230940931 … 7040.5785490445105 7000.0; 7655.192470887142 7118.662906011406 … 7084.480090789831 6999.999999999998; … ; 7656.247907803548 7192.236456120176 … 7021.345583713232 7000.000000000001; 7656.54193053339 7174.495429383417 … 7024.499567472478 7000.0;;;])"
      ]
     },
     "metadata": {},
     "output_type": "display_data"
    }
   ],
   "source": [
    "cost_nr, metric_nr = fcn_evaluate_solution(solution_no_recourse.model, [r])\n",
    "cost_add, metric_add = fcn_evaluate_solution(solution_add_recourse.model, [r])\n",
    "cost_terminate, metric_terminate = fcn_evaluate_solution(solution_terminate_recourse.model, [r])\n",
    "cost_full, metric_full = fcn_evaluate_solution(solution_full_recourse.model, [r])"
   ]
  },
  {
   "cell_type": "code",
   "execution_count": 78,
   "metadata": {},
   "outputs": [
    {
     "data": {
      "text/plain": [
       "\"data/cost_full_recourse.csv\""
      ]
     },
     "metadata": {},
     "output_type": "display_data"
    }
   ],
   "source": [
    "CSV.write(\"data/habitat_size_add_recourse.csv\", DataFrame(metric_add[:,:,1]', climateProjList))\n",
    "CSV.write(\"data/habitat_size_no_recourse.csv\", DataFrame(metric_nr[:,:,1]', climateProjList))\n",
    "CSV.write(\"data/habitat_size_terminate_recourse.csv\", DataFrame(metric_terminate[:,:,1]', climateProjList))\n",
    "CSV.write(\"data/habitat_size_full_recourse.csv\", DataFrame(metric_full[:,:,1]', climateProjList))\n",
    "\n",
    "CSV.write(\"data/cost_add_recourse.csv\", DataFrame(cost_add', climateProjList))\n",
    "CSV.write(\"data/cost_no_recourse.csv\", DataFrame(cost_nr', climateProjList))\n",
    "CSV.write(\"data/cost_terminate_recourse.csv\", DataFrame(cost_terminate', climateProjList))\n",
    "CSV.write(\"data/cost_full_recourse.csv\", DataFrame(cost_full', climateProjList))"
   ]
  },
  {
   "cell_type": "code",
   "execution_count": 79,
   "metadata": {},
   "outputs": [
    {
     "data": {
      "text/plain": [
       "8.823264558816351e7"
      ]
     },
     "metadata": {},
     "output_type": "display_data"
    }
   ],
   "source": [
    "objective_value(solution_full_recourse.model)"
   ]
  },
  {
   "cell_type": "code",
   "execution_count": 80,
   "metadata": {},
   "outputs": [],
   "source": [
    "function fcn_tidy_two_stage_solution(solution, prop_id, climate_models)\n",
    "  out = hcat(prop_id, solution.x, solution.y, solution.w)\n",
    "  y_array = [\"y_\" * c for c in climate_models];\n",
    "  w_array = [\"w_\" * c for c in climate_models];\n",
    "  colnames = vcat([\"NewPropID\"; \"x\"], y_array, w_array);\n",
    "  return DataFrame(out, colnames);\n",
    "end\n",
    "\n",
    "function fcn_tidy_two_stage_solution_sum(solution, prop_id)\n",
    "  out = hcat(prop_id, solution.x, sum(solution.y, dims=2), sum(solution.w, dims=2))\n",
    "  colnames = vcat([\"NewPropID\"; \"x\"; \"sum_y\"; \"sum_w\"]);\n",
    "  return DataFrame(out, colnames);\n",
    "end\n",
    "\n",
    "climate_models = climateProjList;\n",
    "solution_df = map((c->fcn_tidy_two_stage_solution_sum(c, cost_subset.NewPropID)), [solution_no_recourse, solution_add_recourse, solution_terminate_recourse, solution_full_recourse]);"
   ]
  },
  {
   "cell_type": "code",
   "execution_count": 81,
   "metadata": {},
   "outputs": [],
   "source": [
    "CSV.write(\"data/solution_no_recourse_kitl.csv\", solution_df[1]);\n",
    "CSV.write(\"data/solution_add_only_kitl.csv\", solution_df[2]);\n",
    "CSV.write(\"data/solution_terminate_only_kitl.csv\", solution_df[3]);\n",
    "CSV.write(\"data/solution_full_recourse_kitl.csv\", solution_df[4]);"
   ]
  },
  {
   "attachments": {},
   "cell_type": "markdown",
   "metadata": {},
   "source": [
    "## Evaluate solution on sample\n",
    "* Variability in WTA\n",
    "* Adoption\n",
    "* Proportion"
   ]
  },
  {
   "cell_type": "code",
   "execution_count": 82,
   "metadata": {},
   "outputs": [],
   "source": [
    "adoption_subset = innerjoin(stratified_df, adoption, on = :NewPropID);\n",
    "nsims = 100;\n",
    "adopt_binary_sim = [(rand.(Normal.(adoption_subset.MeanAdopt,adoption_subset.SDAdopt))) .> rand(nrow(adoption_subset)) for ns in 1:nsims];\n",
    "prop_sim = [(rand.(Normal.(adoption_subset.MeanProp,adoption_subset.SDProp)))  for ns in 1:nsims];\n",
    "cost_sim = [(rand.(Normal.(adoption_subset.MeanWTA, adoption_subset.SDWTA))) for ns in 1:nsims];"
   ]
  },
  {
   "cell_type": "code",
   "execution_count": 83,
   "metadata": {},
   "outputs": [
    {
     "data": {
      "text/plain": [
       "100-element Vector{Matrix{Float64}}:\n",
       " [12138.784333992418; 9600.467094351792; … ; 167056.79658540926; 14955.895050722185;;]\n",
       " [11154.429349139515; 9128.353857047314; … ; 174142.29981401752; 14781.485060055908;;]\n",
       " [13666.195534968518; 9152.70908954963; … ; 0.0; 0.0;;]\n",
       " [9642.972805422605; 7600.67329309965; … ; 182094.16769293178; 11230.590049969058;;]\n",
       " [8059.6004660395665; 7778.145905629642; … ; 201148.35276232834; 16058.82629114792;;]\n",
       " [9805.967955778466; 8080.8413828106; … ; 179432.0643910075; 11771.0616729242;;]\n",
       " [7864.61993320615; 5670.320217552855; … ; 199733.54892694467; 12595.707087593955;;]\n",
       " [0.0; 9430.779624579656; … ; 208963.37002816703; 14584.074774609835;;]\n",
       " [10459.484324265595; 9191.976985219993; … ; 0.0; 10869.215663653933;;]\n",
       " [11779.327774863217; 0.0; … ; 0.0; 12825.220336118113;;]\n",
       " ⋮\n",
       " [0.0; 0.0; … ; 174203.5405993745; 9139.60096678234;;]\n",
       " [9592.01164466617; 7922.741735131331; … ; 198737.36590894795; 23024.78851861837;;]\n",
       " [11593.910213060506; 8942.276367032171; … ; 164765.30637087947; 13859.347204792335;;]\n",
       " [8324.437778539417; 8882.358190569741; … ; 184442.32309009868; 10613.52052702175;;]\n",
       " [0.0; 0.0; … ; 203613.26760429534; 12843.91284029914;;]\n",
       " [0.0; 7162.31169252554; … ; 99796.66651046861; 12297.475007505629;;]\n",
       " [0.0; 8920.406143046217; … ; 175887.56244848043; 19497.841581632645;;]\n",
       " [10887.166181569737; 0.0; … ; 0.0; 0.0;;]\n",
       " [9460.119562748965; 8910.936685894434; … ; 177212.8500629002; 15071.522890727516;;]"
      ]
     },
     "metadata": {},
     "output_type": "display_data"
    }
   ],
   "source": [
    "cost_before_sim = [adopt_binary_sim[ns] .* cost_to_ts(cost_sim[ns], adoption_subset.AREA, prop_sim[ns])[1] for ns in 1:nsims]\n",
    "cost_after_sim = [adopt_binary_sim[ns] .* cost_to_ts(cost_sim[ns], adoption_subset.AREA, prop_sim[ns])[2] for ns in 1:nsims]"
   ]
  },
  {
   "cell_type": "code",
   "execution_count": 102,
   "metadata": {},
   "outputs": [
    {
     "ename": "ErrorException",
     "evalue": "syntax: unexpected \"end\"",
     "output_type": "error",
     "traceback": [
      "syntax: unexpected \"end\"\n",
      "\n",
      "Stacktrace:\n",
      " [1] top-level scope\n",
      "   @ c:\\Users\\uqfcho\\OneDrive - The University of Queensland\\Documents\\GitHub\\koala-uncertainty\\code\\two-stage-kitl.ipynb:35"
     ]
    }
   ],
   "source": [
    "@define_scenario BehaviourScenario = begin\n",
    "    C₁::Array{Float64,2}\n",
    "    C₂::Array{Float64,2}\n",
    "    M₁::Array{Float64,2}\n",
    "    M₂::Array{Float64,2}\n",
    "    @zero begin\n",
    "        return BehaviourScenario(0.0, 0.0, 0.0, 0.0)\n",
    "    end\n",
    "end\n",
    "\n",
    "@sampler RealisationSampler = begin\n",
    "    C₁::Array{Float64,2}\n",
    "    C₂::Array{Float64,2}\n",
    "    M₁::Array{Float64,2}\n",
    "    M₂::Array{Float64,2}\n",
    "\n",
    "    RealisationSampler(Adopt::Array{Float64,2}, Prop::Array{Float64,2}, WTA::Array{Float64,2}, Area::Array{Float64,1}) = new(C₁, C₂, M₁, M₂)\n",
    "    @sample BehaviourScenario begin\n",
    "\n",
    "        MeanAdopt = sampler.Adopt[:,1]\n",
    "        SDAdopt = sampler.Adopt[:,2]\n",
    "        MeanProp = sampler.Prop[:,1]\n",
    "        SDProp = sampler.Prop[:,2]\n",
    "        MeanWTA = sampler.WTA[:,1]\n",
    "        SDWTA = sampler.WTA[:,2]\n",
    "        adopt_binary = (rand.(Normal.(MeanAdopt,SDAdopt))) .> rand(nrow(adoption_subset))\n",
    "        sample_C₁ = cost_to_ts(MeanWTA + SDWTA .* randn(size(SDWTA)), sampler.Area, MeanProp + SDProp .* randn(size(SDProp)))[1]\n",
    "        sample_C₂ = cost_to_ts(MeanWTA + SDWTA .* randn(size(SDWTA)), sampler.Area, MeanProp + SDProp .* randn(size(SDProp)))[2]\n",
    "        \n",
    "        sample_M₁ = M₁ .* adopt_binary\n",
    "        sample_M₂ = M₂ .* adopt_binary\n",
    "        return BehaviourScenario(sample_C₁, sample_C₂, sample_M₁, sample_M₂)\n",
    "    end\n",
    "end"
   ]
  },
  {
   "cell_type": "code",
   "execution_count": 94,
   "metadata": {},
   "outputs": [
    {
     "data": {
      "text/plain": [
       "9537×3×12 Array{Float64, 3}:\n",
       "[:, :, 1] =\n",
       "   0.952858    0.751328    0.719133\n",
       "   0.906112    0.576728    0.551484\n",
       "   0.965209    0.622461    0.603473\n",
       "  19.3438     10.5472     10.3884\n",
       "  17.9918     10.6718     10.3888\n",
       "  17.2382     10.1043     10.015\n",
       "  31.691      25.0376     24.5274\n",
       "  27.1967     22.2697     21.1116\n",
       "  12.9219      6.42881     6.39403\n",
       "   1.54966     0.779297    0.779297\n",
       "   ⋮                     \n",
       "  99.7447     59.1988     59.0462\n",
       "  26.8528     26.3019     25.6263\n",
       "  38.721      36.3273     35.8318\n",
       "  15.6515     14.874      14.7993\n",
       "  87.4083     87.3876     87.3656\n",
       " 863.655     695.258     684.592\n",
       "   1.77822     1.77822     1.77822\n",
       "  22.6479     10.9682     10.9682\n",
       "   1.53636     1.36189     1.26003\n",
       "\n",
       "[:, :, 2] =\n",
       "   0.952868    0.740683    0.697315\n",
       "   0.906094    0.569935    0.541646\n",
       "   0.965135    0.609632    0.577852\n",
       "  19.3438     10.4573     10.1969\n",
       "  17.9919     10.542      10.0996\n",
       "  17.238      10.0203      9.83556\n",
       "  31.6913     24.8835     24.3516\n",
       "  27.197      21.8686     20.2386\n",
       "  12.9216      6.40056     6.33455\n",
       "   1.54964     0.779297    0.779297\n",
       "   ⋮                     \n",
       "  99.7201     58.1973     57.004\n",
       "  26.8533     26.1914     25.4542\n",
       "  38.7208     36.0341     35.3014\n",
       "  15.6454     14.3514     13.6307\n",
       "  87.4084     87.3857     87.3647\n",
       " 863.481     693.088     680.206\n",
       "   1.77822     1.77822     1.77822\n",
       "  22.6438     10.9682     10.9682\n",
       "   1.5364      1.35549     1.24489\n",
       "\n",
       "[:, :, 3] =\n",
       "   0.952864    0.74244     0.698499\n",
       "   0.906104    0.57085     0.54285\n",
       "   0.96516     0.613335    0.584063\n",
       "  19.3436     10.4722     10.2187\n",
       "  17.9916     10.5744     10.1584\n",
       "  17.238      10.0441      9.88488\n",
       "  31.6911     25.0044     24.5491\n",
       "  27.1969     21.9395     20.3126\n",
       "  12.9217      6.40688     6.34522\n",
       "   1.54965     0.779297    0.779297\n",
       "   ⋮                     \n",
       "  99.7176     58.2726     57.1261\n",
       "  26.8619     26.3809     25.8062\n",
       "  38.7193     35.5165     34.3494\n",
       "  15.6472     14.8        14.637\n",
       "  87.4086     87.4022     87.3951\n",
       " 863.474     677.999     650.852\n",
       "   1.77822     1.77822     1.77822\n",
       "  22.6435     10.9682     10.9682\n",
       "   1.53646     1.34885     1.23314\n",
       "\n",
       ";;; … \n",
       "\n",
       "[:, :, 10] =\n",
       "   0.952958    0.754306    0.726651\n",
       "   0.906206    0.578505    0.554884\n",
       "   0.965264    0.616078    0.589961\n",
       "  19.3455     10.545      10.368\n",
       "  17.9936     10.7036     10.453\n",
       "  17.2394     10.0808      9.96226\n",
       "  31.6935     25.048      24.6385\n",
       "  27.1991     22.3461     21.3059\n",
       "  12.9233      6.43781     6.4099\n",
       "   1.54984     0.779297    0.779297\n",
       "   ⋮                     \n",
       "  99.7253     58.8495     58.3832\n",
       "  26.855      26.3453     25.7897\n",
       "  38.7199     35.8554     34.9444\n",
       "  15.6475     14.669      14.4105\n",
       "  87.4083     87.3887     87.3669\n",
       " 863.767     710.238     714.06\n",
       "   1.77822     1.77822     1.77822\n",
       "  22.6438     10.9682     10.9682\n",
       "   1.53685     1.38009     1.30838\n",
       "\n",
       "[:, :, 11] =\n",
       "   0.952982    0.749392    0.716637\n",
       "   0.906149    0.57042     0.536166\n",
       "   0.965294    0.609908    0.575551\n",
       "  19.3458     10.4977     10.2624\n",
       "  17.9936     10.6043     10.2287\n",
       "  17.2398     10.0375      9.8655\n",
       "  31.6958     24.9652     24.4433\n",
       "  27.1996     22.088      20.7127\n",
       "  12.9225      6.41196     6.35252\n",
       "   1.54974     0.779297    0.779297\n",
       "   ⋮                     \n",
       "  99.7317     58.2997     57.2038\n",
       "  26.8543     26.0716     25.2135\n",
       "  38.7209     35.8761     34.9899\n",
       "  15.6476     14.5942     14.2322\n",
       "  87.4083     87.3892     87.3699\n",
       " 863.607     702.595     699.124\n",
       "   1.77822     1.77822     1.77822\n",
       "  22.6443     10.9682     10.9682\n",
       "   1.53673     1.35665     1.24566\n",
       "\n",
       "[:, :, 12] =\n",
       "   0.953264    0.744294    0.707119\n",
       "   0.906363    0.573332    0.545649\n",
       "   0.965617    0.60993     0.578576\n",
       "  19.3513     10.4981     10.2841\n",
       "  17.999      10.6025     10.2543\n",
       "  17.2448     10.0296      9.86119\n",
       "  31.7024     24.7658     24.0678\n",
       "  27.206      21.9995     20.5977\n",
       "  12.9252      6.41211     6.35766\n",
       "   1.55011     0.779297    0.779297\n",
       "   ⋮                     \n",
       "  99.716      58.6777     57.9879\n",
       "  26.8593     26.4484     26.0079\n",
       "  38.7213     35.9149     35.0526\n",
       "  15.6466     14.7076     14.4972\n",
       "  87.4084     87.3929     87.3767\n",
       " 863.634     700.089     694.263\n",
       "   1.77822     1.77822     1.77822\n",
       "  22.643      10.9682     10.9682\n",
       "   1.53701     1.37464     1.30277"
      ]
     },
     "metadata": {},
     "output_type": "display_data"
    }
   ],
   "source": [
    "M₁"
   ]
  },
  {
   "cell_type": "code",
   "execution_count": 93,
   "metadata": {},
   "outputs": [
    {
     "data": {
      "text/plain": [
       "9537×3×12 Array{Float64, 3}:\n",
       "[:, :, 1] =\n",
       "   0.952858    0.751328    0.719133\n",
       "   0.906112    0.576728    0.551484\n",
       "   0.0         0.0         0.0\n",
       "  19.3438     10.5472     10.3884\n",
       "  17.9918     10.6718     10.3888\n",
       "  17.2382     10.1043     10.015\n",
       "  31.691      25.0376     24.5274\n",
       "   0.0         0.0         0.0\n",
       "   0.0         0.0         0.0\n",
       "   1.54966     0.779297    0.779297\n",
       "   ⋮                     \n",
       "  99.7447     59.1988     59.0462\n",
       "  26.8528     26.3019     25.6263\n",
       "  38.721      36.3273     35.8318\n",
       "   0.0         0.0         0.0\n",
       "   0.0         0.0         0.0\n",
       " 863.655     695.258     684.592\n",
       "   1.77822     1.77822     1.77822\n",
       "  22.6479     10.9682     10.9682\n",
       "   1.53636     1.36189     1.26003\n",
       "\n",
       "[:, :, 2] =\n",
       "   0.952868    0.740683    0.697315\n",
       "   0.906094    0.569935    0.541646\n",
       "   0.0         0.0         0.0\n",
       "  19.3438     10.4573     10.1969\n",
       "  17.9919     10.542      10.0996\n",
       "  17.238      10.0203      9.83556\n",
       "  31.6913     24.8835     24.3516\n",
       "   0.0         0.0         0.0\n",
       "   0.0         0.0         0.0\n",
       "   1.54964     0.779297    0.779297\n",
       "   ⋮                     \n",
       "  99.7201     58.1973     57.004\n",
       "  26.8533     26.1914     25.4542\n",
       "  38.7208     36.0341     35.3014\n",
       "   0.0         0.0         0.0\n",
       "   0.0         0.0         0.0\n",
       " 863.481     693.088     680.206\n",
       "   1.77822     1.77822     1.77822\n",
       "  22.6438     10.9682     10.9682\n",
       "   1.5364      1.35549     1.24489\n",
       "\n",
       "[:, :, 3] =\n",
       "   0.952864    0.74244     0.698499\n",
       "   0.906104    0.57085     0.54285\n",
       "   0.0         0.0         0.0\n",
       "  19.3436     10.4722     10.2187\n",
       "  17.9916     10.5744     10.1584\n",
       "  17.238      10.0441      9.88488\n",
       "  31.6911     25.0044     24.5491\n",
       "   0.0         0.0         0.0\n",
       "   0.0         0.0         0.0\n",
       "   1.54965     0.779297    0.779297\n",
       "   ⋮                     \n",
       "  99.7176     58.2726     57.1261\n",
       "  26.8619     26.3809     25.8062\n",
       "  38.7193     35.5165     34.3494\n",
       "   0.0         0.0         0.0\n",
       "   0.0         0.0         0.0\n",
       " 863.474     677.999     650.852\n",
       "   1.77822     1.77822     1.77822\n",
       "  22.6435     10.9682     10.9682\n",
       "   1.53646     1.34885     1.23314\n",
       "\n",
       ";;; … \n",
       "\n",
       "[:, :, 10] =\n",
       "   0.952958    0.754306    0.726651\n",
       "   0.906206    0.578505    0.554884\n",
       "   0.0         0.0         0.0\n",
       "  19.3455     10.545      10.368\n",
       "  17.9936     10.7036     10.453\n",
       "  17.2394     10.0808      9.96226\n",
       "  31.6935     25.048      24.6385\n",
       "   0.0         0.0         0.0\n",
       "   0.0         0.0         0.0\n",
       "   1.54984     0.779297    0.779297\n",
       "   ⋮                     \n",
       "  99.7253     58.8495     58.3832\n",
       "  26.855      26.3453     25.7897\n",
       "  38.7199     35.8554     34.9444\n",
       "   0.0         0.0         0.0\n",
       "   0.0         0.0         0.0\n",
       " 863.767     710.238     714.06\n",
       "   1.77822     1.77822     1.77822\n",
       "  22.6438     10.9682     10.9682\n",
       "   1.53685     1.38009     1.30838\n",
       "\n",
       "[:, :, 11] =\n",
       "   0.952982    0.749392    0.716637\n",
       "   0.906149    0.57042     0.536166\n",
       "   0.0         0.0         0.0\n",
       "  19.3458     10.4977     10.2624\n",
       "  17.9936     10.6043     10.2287\n",
       "  17.2398     10.0375      9.8655\n",
       "  31.6958     24.9652     24.4433\n",
       "   0.0         0.0         0.0\n",
       "   0.0         0.0         0.0\n",
       "   1.54974     0.779297    0.779297\n",
       "   ⋮                     \n",
       "  99.7317     58.2997     57.2038\n",
       "  26.8543     26.0716     25.2135\n",
       "  38.7209     35.8761     34.9899\n",
       "   0.0         0.0         0.0\n",
       "   0.0         0.0         0.0\n",
       " 863.607     702.595     699.124\n",
       "   1.77822     1.77822     1.77822\n",
       "  22.6443     10.9682     10.9682\n",
       "   1.53673     1.35665     1.24566\n",
       "\n",
       "[:, :, 12] =\n",
       "   0.953264    0.744294    0.707119\n",
       "   0.906363    0.573332    0.545649\n",
       "   0.0         0.0         0.0\n",
       "  19.3513     10.4981     10.2841\n",
       "  17.999      10.6025     10.2543\n",
       "  17.2448     10.0296      9.86119\n",
       "  31.7024     24.7658     24.0678\n",
       "   0.0         0.0         0.0\n",
       "   0.0         0.0         0.0\n",
       "   1.55011     0.779297    0.779297\n",
       "   ⋮                     \n",
       "  99.716      58.6777     57.9879\n",
       "  26.8593     26.4484     26.0079\n",
       "  38.7213     35.9149     35.0526\n",
       "   0.0         0.0         0.0\n",
       "   0.0         0.0         0.0\n",
       " 863.634     700.089     694.263\n",
       "   1.77822     1.77822     1.77822\n",
       "  22.643      10.9682     10.9682\n",
       "   1.53701     1.37464     1.30277"
      ]
     },
     "metadata": {},
     "output_type": "display_data"
    }
   ],
   "source": [
    "M₁ .* adopt_binary_sim[1]"
   ]
  },
  {
   "cell_type": "code",
   "execution_count": 84,
   "metadata": {},
   "outputs": [],
   "source": [
    "realisation_samples = [Realisation(cost_before_sim[ns], cost_after_sim[ns], cat([M₁[:,:,s] .* adopt_binary_sim[ns] for s=1:S]..., dims = 3), cat([M₂[:,:,s] .* adopt_binary_sim[ns] for s=1:S]..., dims = 3)) for ns=1:nsims];"
   ]
  },
  {
   "cell_type": "code",
   "execution_count": 85,
   "metadata": {},
   "outputs": [
    {
     "data": {
      "text/plain": [
       "([4.836035809653333e7 4.936171104900645e7 … 5.377926407078411e7 5.5347633197771475e7; 5.276888929732552e7 5.1988243898918405e7 … 5.6304275353330284e7 5.893939381002958e7; … ; 4.754384688309372e7 4.8472284987824455e7 … 5.278874670235933e7 5.4480091399424054e7; 4.722562497295572e7 4.8147295159348086e7 … 5.2392884644485265e7 5.413135503147497e7], [7359.015642108733 6600.308990655611 … 6462.623214765344 6364.741097216612; 7358.169903762256 6524.904165354419 … 6545.874510671387 6411.848919432418; … ; 7359.984870555047 6613.381691260312 … 6450.831151256737 6377.275285499973; 7360.4306912858565 6613.951951187207 … 6493.874040754174 6452.224061431858;;; 7688.455159382069 6899.098094934772 … 6771.621112200021 6669.482141956936; 7687.535480809726 6819.297264526559 … 6822.920524731018 6679.267240611163; … ; 7689.391732938817 6908.020117167567 … 6731.849708431375 6658.494209796457; 7689.944205340113 6912.777486601047 … 6789.933275900508 6747.9051389865845;;; 7715.5952594305045 6938.0827137151655 … 6811.566902525998 6710.604111664138; 7714.68114619998 6858.8650255394205 … 6871.811582019607 6731.206264524551; … ; 7716.564779975755 6950.690160987628 … 6776.26085915756 6700.882177140761; 7717.058642856304 6951.565688654122 … 6825.68978910582 6783.11451361945;;; … ;;; 7187.535850975626 6437.788771219363 … 6329.631341575134 6237.862018805451; 7186.7029102461565 6362.198295097818 … 6413.450867850499 6291.1764243325615; … ; 7188.444578602511 6444.586055380988 … 6284.736457116176 6220.92250958121; 7188.941292171419 6452.625217139156 … 6329.974711881081 6289.105134520951;;; 7894.992667338407 7082.287420614805 … 6952.252798261804 6853.6099541796875; 7894.04654209776 6999.385424404691 … 6999.992204296822 6863.399822902757; … ; 7895.969212139872 7092.048564440251 … 6920.435043403803 6851.336414303265; 7896.521696052065 7097.401180982855 … 6977.045170781994 6937.018272751573;;; 7915.306462655955 7111.939984383069 … 6980.795181192268 6879.37140418373; 7914.372002981779 7032.310205750495 … 7039.920689253511 6898.474492775043; … ; 7916.280127194812 7121.629667067291 … 6923.434835889198 6851.837897802637; 7916.81589374893 7127.153076483632 … 7005.778699656842 6964.385854696034])"
      ]
     },
     "metadata": {},
     "output_type": "display_data"
    }
   ],
   "source": [
    "cost_mat, metric_mat = fcn_evaluate_solution(solution_add_recourse.model, realisation_samples)\n"
   ]
  },
  {
   "cell_type": "code",
   "execution_count": 86,
   "metadata": {},
   "outputs": [
    {
     "name": "stdout",
     "output_type": "stream",
     "text": [
      "Set parameter Username\r\n",
      "Academic license - for non-commercial use only - expires 2023-12-16\r\n",
      "Gurobi Optimizer version 9.5.2 build v9.5.2rc0 (win64)\r\n",
      "Thread count: 6 physical cores, 6 logical processors, using up to 6 threads\r\n",
      "Optimize a model with 233738 rows, 238426 columns and 98087890 nonzeros\r\n",
      "Model fingerprint: 0x7f488f98\r\n",
      "Coefficient statistics:\r\n",
      "  Matrix range     [3e-01, 1e+08]\r\n",
      "  Objective range  [1e+00, 1e+00]\r\n",
      "  Bounds range     [1e+00, 1e+00]\r\n",
      "  RHS range        [1e+00, 7e+03]\r\n",
      "Warning: Model contains large matrix coefficients\r\n",
      "         Consider reformulating model or setting NumericFocus parameter\r\n",
      "         to avoid numerical issues.\r\n",
      "\r\n",
      "Concurrent LP optimizer: primal simplex, dual simplex, and barrier\r\n",
      "Showing barrier log only...\r\n",
      "\r\n",
      "Presolve removed 0 rows and 0 columns (presolve time = 53s) ...\r\n",
      "Presolve removed 228888 rows and 228888 columns (presolve time = 57s) ...\r\n",
      "Presolve removed 228888 rows and 228888 columns (presolve time = 60s) ...\r\n",
      "Presolve removed 228888 rows and 228888 columns (presolve time = 75s) ...\r\n",
      "Presolve removed 228888 rows and 228888 columns (presolve time = 75s) ...\r\n",
      "Presolve removed 228888 rows and 228888 columns\r\n",
      "Presolve time: 92.15s\r\n",
      "Presolved: 4850 rows, 9538 columns, 39295138 nonzeros\r\n",
      "\r\n",
      "\r\n",
      "Barrier performed 0 iterations in 94.14 seconds (15.20 work units)\r\n",
      "Barrier solve interrupted - model solved by another algorithm\r\n",
      "\r\n",
      "\r\n",
      "Solved with dual simplex\r\n",
      "Solved in 359 iterations and 94.14 seconds (17.45 work units)\r\n",
      "Optimal objective  8.412071869e+07\r\n",
      "\r\n",
      "User-callback calls 52, time in user-callback 0.00 sec\r\n",
      "Set parameter Username\r\n",
      "Academic license - for non-commercial use only - expires 2023-12-16\r\n",
      "Gurobi Optimizer version 9.5.2 build v9.5.2rc0 (win64)\r\n",
      "Thread count: 6 physical cores, 6 logical processors, using up to 6 threads\r\n",
      "Optimize a model with 233738 rows, 238426 columns and 98087890 nonzeros\r\n",
      "Model fingerprint: 0x09ce5801\r\n",
      "Coefficient statistics:\r\n",
      "  Matrix range     [3e-01, 1e+08]\r\n",
      "  Objective range  [1e+00, 1e+00]\r\n",
      "  Bounds range     [1e+00, 1e+00]\r\n",
      "  RHS range        [1e+00, 7e+03]\r\n",
      "Warning: Model contains large matrix coefficients\r\n",
      "         Consider reformulating model or setting NumericFocus parameter\r\n",
      "         to avoid numerical issues.\r\n",
      "\r\n",
      "Concurrent LP optimizer: primal simplex, dual simplex, and barrier\r\n",
      "Showing barrier log only...\r\n",
      "\r\n",
      "Presolve removed 0 rows and 0 columns (presolve time = 6s) ...\r\n",
      "Presolve removed 114444 rows and 114444 columns (presolve time = 56s) ...\r\n",
      "Presolve removed 114444 rows and 114444 columns (presolve time = 80s) ...\r\n",
      "Presolve removed 114444 rows and 114444 columns (presolve time = 81s) ...\r\n",
      "Presolve removed 114444 rows and 114444 columns\r\n",
      "Presolve time: 98.88s\r\n",
      "Presolved: 119294 rows, 123982 columns, 68691514 nonzeros\r\n",
      "\r\n",
      "\r\n",
      "Barrier performed 0 iterations in 114.91 seconds (29.05 work units)\r\n",
      "Optimization exhausted available memory\r\n",
      "\r\n",
      "Concurrent optimizer error 10001. Waiting for other threads to terminate...\r\n",
      "Out of memory\r\n",
      "\r\n",
      "User-callback calls 7325, time in user-callback 0.04 sec\r\n"
     ]
    },
    {
     "ename": "MathOptInterface.ResultIndexBoundsError{MathOptInterface.ObjectiveValue}",
     "evalue": "Result index of attribute MathOptInterface.ObjectiveValue(1) out of bounds. There are currently 0 solution(s) in the model.",
     "output_type": "error",
     "traceback": [
      "Result index of attribute MathOptInterface.ObjectiveValue(1) out of bounds. There are currently 0 solution(s) in the model.\n",
      "\n",
      "Stacktrace:\n",
      "  [1] check_result_index_bounds\n",
      "    @ C:\\Users\\uqfcho\\.julia\\packages\\MathOptInterface\\RuRWI\\src\\attributes.jl:176 [inlined]\n",
      "  [2] get(model::Gurobi.Optimizer, attr::MathOptInterface.ObjectiveValue)\n",
      "    @ Gurobi C:\\Users\\uqfcho\\.julia\\packages\\Gurobi\\VPomg\\src\\MOI_wrapper\\MOI_wrapper.jl:3084\n",
      "  [3] get(b::MathOptInterface.Bridges.LazyBridgeOptimizer{Gurobi.Optimizer}, attr::MathOptInterface.ObjectiveValue)\n",
      "    @ MathOptInterface.Bridges C:\\Users\\uqfcho\\.julia\\packages\\MathOptInterface\\RuRWI\\src\\Bridges\\bridge_optimizer.jl:1004\n",
      "  [4] get(model::MathOptInterface.Utilities.CachingOptimizer{MathOptInterface.Bridges.LazyBridgeOptimizer{Gurobi.Optimizer}, MathOptInterface.Utilities.UniversalFallback{MathOptInterface.Utilities.Model{Float64}}}, attr::MathOptInterface.ObjectiveValue)\n",
      "    @ MathOptInterface.Utilities C:\\Users\\uqfcho\\.julia\\packages\\MathOptInterface\\RuRWI\\src\\Utilities\\cachingoptimizer.jl:834\n",
      "  [5] _moi_get_result(model::MathOptInterface.Utilities.CachingOptimizer{MathOptInterface.Bridges.LazyBridgeOptimizer{Gurobi.Optimizer}, MathOptInterface.Utilities.UniversalFallback{MathOptInterface.Utilities.Model{Float64}}}, args::MathOptInterface.ObjectiveValue)\n",
      "    @ JuMP C:\\Users\\uqfcho\\.julia\\packages\\JuMP\\60Bnj\\src\\JuMP.jl:1155\n",
      "  [6] get(model::Model, attr::MathOptInterface.ObjectiveValue)\n",
      "    @ JuMP C:\\Users\\uqfcho\\.julia\\packages\\JuMP\\60Bnj\\src\\JuMP.jl:1175\n",
      "  [7] objective_value(model::Model; result::Int64)\n",
      "    @ JuMP C:\\Users\\uqfcho\\.julia\\packages\\JuMP\\60Bnj\\src\\objective.jl:42\n",
      "  [8] objective_value\n",
      "    @ C:\\Users\\uqfcho\\.julia\\packages\\JuMP\\60Bnj\\src\\objective.jl:41 [inlined]\n",
      "  [9] fcn_two_stage_opt_saa(realisations::Vector{Realisation}; K::Int64, β::Int64, γ::Int64, add_recourse::Bool, terminate_recourse::Bool)\n",
      "    @ Main c:\\Users\\uqfcho\\OneDrive - The University of Queensland\\Documents\\GitHub\\koala-uncertainty\\code\\optim-functions.jl:130\n",
      " [10] top-level scope\n",
      "    @ c:\\Users\\uqfcho\\OneDrive - The University of Queensland\\Documents\\GitHub\\koala-uncertainty\\code\\two-stage-kitl.ipynb:2"
     ]
    }
   ],
   "source": [
    "solution_no_recourse_saa = fcn_two_stage_opt_saa(realisation_samples[1:50], add_recourse = false, terminate_recourse = false)\n",
    "solution_add_recourse_saa = fcn_two_stage_opt_saa(realisation_samples[1:50], add_recourse = true, terminate_recourse = false)"
   ]
  },
  {
   "cell_type": "code",
   "execution_count": 87,
   "metadata": {},
   "outputs": [],
   "source": []
  },
  {
   "cell_type": "code",
   "execution_count": 88,
   "metadata": {},
   "outputs": [],
   "source": []
  }
 ],
 "metadata": {
  "kernelspec": {
   "display_name": "Julia 1.8.5",
   "language": "julia",
   "name": "julia-1.8"
  },
  "language_info": {
   "file_extension": ".jl",
   "mimetype": "application/julia",
   "name": "julia",
   "version": "1.8.5"
  },
  "orig_nbformat": 4
 },
 "nbformat": 4,
 "nbformat_minor": 2
}
