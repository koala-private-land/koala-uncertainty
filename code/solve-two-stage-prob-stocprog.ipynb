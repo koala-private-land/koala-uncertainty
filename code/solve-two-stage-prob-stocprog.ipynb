{
 "cells": [
  {
   "cell_type": "code",
   "execution_count": 2,
   "metadata": {},
   "outputs": [],
   "source": [
    "using CSV\n",
    "using DataFrames\n",
    "using Revise\n",
    "using StatsBase\n",
    "using StochasticPrograms\n",
    "using Gurobi\n",
    "using JuMP\n",
    "cd(\"/Users/frankiecho/Library/CloudStorage/OneDrive-TheUniversityofQueensland/Documents/GitHub/koala-uncertainty/\")\n",
    "#cd(\"/mnt/c/Users/uqfcho/OneDrive - The University of Queensland/Documents/GitHub/koala-uncertainty\")\n",
    "#includet(\"code/optim-functions.jl\")"
   ]
  },
  {
   "attachments": {},
   "cell_type": "markdown",
   "metadata": {},
   "source": [
    "Import data files"
   ]
  },
  {
   "cell_type": "code",
   "execution_count": 3,
   "metadata": {},
   "outputs": [],
   "source": [
    "cost_df = CSV.read(\"data/meanWTA_10yr.csv\", DataFrame);\n",
    "habitat_df = CSV.read(\"data/habitat_suitw_graham.csv\", DataFrame);"
   ]
  },
  {
   "attachments": {},
   "cell_type": "markdown",
   "metadata": {},
   "source": [
    "Load dataframes as matrices\n",
    "- N: number of properties\n",
    "- T: number of timesteps\n",
    "- S: number of scenarios"
   ]
  },
  {
   "cell_type": "code",
   "execution_count": 4,
   "metadata": {},
   "outputs": [],
   "source": [
    "cost = Matrix(cost_df[:, [:cost2025, :cost2035, :cost2045, :cost2055, :cost2065, :cost2075, :cost2085]]);\n",
    "N = size(cost,1);\n",
    "T = size(cost,2);\n",
    "S = length(unique(habitat_df.climate_model));"
   ]
  },
  {
   "cell_type": "code",
   "execution_count": 5,
   "metadata": {},
   "outputs": [],
   "source": [
    "M = zeros(N, T, S);\n",
    "for (s, cm) in enumerate(unique(habitat_df.climate_model))\n",
    "    df = filter(row -> row.climate_model == cm, habitat_df);\n",
    "    select!(df, Not([:climate_model, :NewPropID]))\n",
    "    M[:,:,s] = Matrix(df);\n",
    "end"
   ]
  },
  {
   "attachments": {},
   "cell_type": "markdown",
   "metadata": {},
   "source": [
    "# Solve a two-stage stochastic optimisation model\n",
    "Written as:\n",
    "\n",
    "$$ \\min_{x,y,w} \\sum_i \\sum_{t<t'} c_{it}x_i + \\sum_s p_s \\sum_i \\sum_{t\\geq t'} ((\\beta + c_{it}) y_{is} + (\\gamma - c_{it})w_{is})$$\n",
    "$$ s.t. \\sum_i m_{its} x_i \\geq K \\quad \\forall t < t', s \\in S$$\n",
    "$$ \\sum_i m_{its} (x_i + y_{is} - w_{is}) \\geq K \\quad \\forall t \\geq t', s \\in S$$\n",
    "$$ x_i + y_{is} \\leq 1 \\quad \\forall i \\in N, s \\in S $$\n",
    "$$ x_i \\geq w_{is} \\quad \\forall i \\in N, s \\in S $$\n",
    "$$ x, y, w \\in [0,1] $$\n",
    "\n",
    "where\n",
    "* $i$: properties (out of $N$)\n",
    "* $t$: timesteps - $t'$ is the timestep when uncertainty about $m$ is revealed\n",
    "* $s$: scenarios (out of $S$)\n",
    "* $x$: properties with covenant signed before $t'$\n",
    "* $y$: properties with covenant newly added in the second stage (after $t'$)\n",
    "* $w$: properties with covenant terminated at timestep $t'$\n",
    "* $c$: cost (mean WTA)\n",
    "* $m$: quality metric (suitability-weighed koala habitat)\n",
    "* $K$: objective for the amount of suitability-weighted koala habitats that must be achieved\n",
    "* $\\beta$: additional costs incurred for adding covenants in the second stage\n",
    "* $\\gamma$: additional costs incurred for terminating covenants in the second stage\n",
    "* $p$: probability of each scenario"
   ]
  },
  {
   "attachments": {},
   "cell_type": "markdown",
   "metadata": {},
   "source": [
    "Solve four versions:\n",
    "1. No recourse allowed: all decisions made in the first time (i.e. $y = 0$ & $w = 0$)\n",
    "2. Only adding new units in year 2055 (i.e. $w = 0$)\n",
    "3. Only terminating covenants in year 2055 (i.e. $y = 0$)\n",
    "4. Full recourse: add and terminating units allowed"
   ]
  },
  {
   "cell_type": "code",
   "execution_count": 6,
   "metadata": {},
   "outputs": [
    {
     "data": {
      "text/plain": [
       "17276×7 Matrix{Float64}:\n",
       " 14816.6        18061.3        22016.6        …  39880.1        48613.6\n",
       " 18039.4        21989.9        26805.5           48554.5        59187.7\n",
       "     1.36672e5      1.66602e5      2.03087e5         3.67864e5      4.48425e5\n",
       " 13903.1        16947.7        20659.2           37421.3        45616.3\n",
       " 13740.4        16749.4        20417.5           36983.4        45082.6\n",
       "  7201.65        8778.77       10701.3        …  19383.9        23628.8\n",
       " 26742.3        32598.7        39737.6           71979.2        87742.2\n",
       "  6878.47        8384.82       10221.0           18514.0        22568.5\n",
       "  7179.83        8752.17       10668.8           19325.1        23557.2\n",
       " 16966.5        20682.0        25211.3           45666.7        55667.5\n",
       "     ⋮                                        ⋱      ⋮          \n",
       " 42208.5        51451.9        62719.6               1.13608e5      1.38487e5\n",
       " 10964.9        13366.1        16293.2           29512.9        35976.1\n",
       " 30203.4        36817.8        44880.7           81295.2        99098.4\n",
       "  3021.14        3682.75        4489.26       …   8131.67        9912.46\n",
       " 11440.3        13945.6        16999.6           30792.5        37535.9\n",
       "  2102.11        2562.46        3123.63           5658.02        6897.09\n",
       "  1163.8         1418.67        1729.35           3132.48        3818.47\n",
       "  1746.64        2129.15        2595.42           4701.24        5730.79\n",
       "  1286.14        1567.8         1911.14       …   3461.77        4219.88"
      ]
     },
     "metadata": {},
     "output_type": "display_data"
    }
   ],
   "source": [
    "cost"
   ]
  },
  {
   "cell_type": "code",
   "execution_count": null,
   "metadata": {},
   "outputs": [],
   "source": [
    "M_end = M[:, 7, :];\n",
    "ξ = [(@scenario m[i in 1:N]=Array(M_end[:, s]) probability = 1/S) for s=1:S];"
   ]
  },
  {
   "cell_type": "code",
   "execution_count": 78,
   "metadata": {},
   "outputs": [
    {
     "name": "stdout",
     "output_type": "stream",
     "text": [
      "Set parameter Username\n",
      "Academic license - for non-commercial use only - expires 2024-03-18\n"
     ]
    },
    {
     "data": {
      "text/plain": [
       "Stochastic program with:\n",
       " * 17276 decision variables\n",
       " * 34552 recourse variables\n",
       " * 36 scenarios of type Scenario\n",
       "Structure: Deterministic equivalent\n",
       "Solver name: Gurobi"
      ]
     },
     "metadata": {},
     "output_type": "display_data"
    }
   ],
   "source": [
    "two_stage_model = @stochastic_model begin\n",
    "  @stage 1 begin\n",
    "    @parameters begin\n",
    "      K = 70.0\n",
    "      tt = 4\n",
    "      β = 0\n",
    "      γ = 0\n",
    "    end\n",
    "    @decision(model, 0 <= x[i in 1:N] <= 1)\n",
    "    @objective(model, Min, sum(cost[i,t]*x[i] for i in 1:N, t in 1:T))\n",
    "    for t=1:(tt-1)\n",
    "      for s=1:S\n",
    "        @constraint(model, sum(M[i,t,s] * x[i] for i in 1:N) >= K)\n",
    "      end\n",
    "    end\n",
    "  end\n",
    "  @stage 2 begin\n",
    "    @parameters begin\n",
    "      K = 70.0\n",
    "      tt = 4\n",
    "      β = 0\n",
    "      γ = 0\n",
    "    end\n",
    "    @uncertain m[i in 1:N]\n",
    "    @recourse(model, 0 <= y[i in 1:N] <= 1)\n",
    "    @recourse(model, 0 <= w[i in 1:N] <= 1)\n",
    "    @objective(model, Min, sum((β + cost[i,t]) * y[i] + (γ - cost[i,t]) * w[i] for i in 1:N, t in tt:T))\n",
    "    #for t=tt:T\n",
    "    @constraint(model, sum(m[i] * (x[i] + y[i] - w[i]) for i in 1:N) >= K)\n",
    "    #end\n",
    "    for i=1:N\n",
    "      @constraint(model, x[i] + y[i] <= 1)\n",
    "      @constraint(model, w[i] <= x[i])\n",
    "    end\n",
    "  end\n",
    "end\n",
    "sp = instantiate(two_stage_model, ξ, optimizer = Gurobi.Optimizer)"
   ]
  },
  {
   "cell_type": "code",
   "execution_count": 81,
   "metadata": {},
   "outputs": [
    {
     "ename": "InterruptException",
     "evalue": "InterruptException:",
     "output_type": "error",
     "traceback": [
      "InterruptException:\n",
      "\n",
      "Stacktrace:\n",
      "  [1] bridged_variable_function(b::MathOptInterface.Bridges.LazyBridgeOptimizer{Gurobi.Optimizer}, vi::MathOptInterface.VariableIndex)\n",
      "    @ MathOptInterface.Bridges ~/.julia/packages/MathOptInterface/RuRWI/src/Bridges/bridge_optimizer.jl:1867\n",
      "  [2] #54\n",
      "    @ ~/.julia/packages/MathOptInterface/RuRWI/src/Bridges/bridge_optimizer.jl:1892 [inlined]\n",
      "  [3] substitute_variables(variable_map::MathOptInterface.Bridges.var\"#54#55\"{MathOptInterface.Bridges.LazyBridgeOptimizer{Gurobi.Optimizer}}, f::AffineDecisionFunction{Float64})\n",
      "    @ StochasticPrograms ~/.julia/packages/StochasticPrograms/pIScW/src/types/decisions/functions/affine.jl:371\n",
      "  [4] bridged_function\n",
      "    @ ~/.julia/packages/MathOptInterface/RuRWI/src/Bridges/bridge_optimizer.jl:1891 [inlined]\n",
      "  [5] set(b::MathOptInterface.Bridges.LazyBridgeOptimizer{Gurobi.Optimizer}, attr::MathOptInterface.ObjectiveFunction{AffineDecisionFunction{Float64}}, func::AffineDecisionFunction{Float64})\n",
      "    @ MathOptInterface.Bridges ~/.julia/packages/MathOptInterface/RuRWI/src/Bridges/bridge_optimizer.jl:1076\n",
      "  [6] _pass_attribute(dest::MathOptInterface.Bridges.LazyBridgeOptimizer{Gurobi.Optimizer}, src::MathOptInterface.Utilities.UniversalFallback{MathOptInterface.Utilities.Model{Float64}}, index_map::MathOptInterface.Utilities.IndexMap, attr::MathOptInterface.ObjectiveFunction{AffineDecisionFunction{Float64}})\n",
      "    @ MathOptInterface.Utilities ~/.julia/packages/MathOptInterface/RuRWI/src/Utilities/copy.jl:45\n",
      "  [7] pass_attributes(dest::MathOptInterface.Bridges.LazyBridgeOptimizer{Gurobi.Optimizer}, src::MathOptInterface.Utilities.UniversalFallback{MathOptInterface.Utilities.Model{Float64}}, index_map::MathOptInterface.Utilities.IndexMap)\n",
      "    @ MathOptInterface.Utilities ~/.julia/packages/MathOptInterface/RuRWI/src/Utilities/copy.jl:32\n",
      "  [8] default_copy_to(dest::MathOptInterface.Bridges.LazyBridgeOptimizer{Gurobi.Optimizer}, src::MathOptInterface.Utilities.UniversalFallback{MathOptInterface.Utilities.Model{Float64}})\n",
      "    @ MathOptInterface.Utilities ~/.julia/packages/MathOptInterface/RuRWI/src/Utilities/copy.jl:496\n",
      "  [9] #copy_to#7\n",
      "    @ ~/.julia/packages/MathOptInterface/RuRWI/src/Bridges/bridge_optimizer.jl:427 [inlined]\n",
      " [10] copy_to\n",
      "    @ ~/.julia/packages/MathOptInterface/RuRWI/src/Bridges/bridge_optimizer.jl:422 [inlined]\n",
      " [11] optimize!(dest::MathOptInterface.Bridges.LazyBridgeOptimizer{Gurobi.Optimizer}, src::MathOptInterface.Utilities.UniversalFallback{MathOptInterface.Utilities.Model{Float64}})\n",
      "    @ MathOptInterface ~/.julia/packages/MathOptInterface/RuRWI/src/MathOptInterface.jl:86\n",
      " [12] optimize!(m::MathOptInterface.Utilities.CachingOptimizer{MathOptInterface.AbstractOptimizer, MathOptInterface.Utilities.UniversalFallback{MathOptInterface.Utilities.Model{Float64}}})\n",
      "    @ MathOptInterface.Utilities ~/.julia/packages/MathOptInterface/RuRWI/src/Utilities/cachingoptimizer.jl:316\n",
      " [13] optimize!(structure::DeterministicEquivalent{2, 1, Tuple{Vector{Scenario{Vector{Float64}}}}}, optimizer::MathOptInterface.Utilities.CachingOptimizer{MathOptInterface.AbstractOptimizer, MathOptInterface.Utilities.UniversalFallback{MathOptInterface.Utilities.Model{Float64}}}, x₀::Vector{Float64})\n",
      "    @ StochasticPrograms ~/.julia/packages/StochasticPrograms/pIScW/src/methods/deterministic_equivalent/optimization.jl:35\n",
      " [14] optimize!(stochasticprogram::StochasticProgram{2, Tuple{StochasticPrograms.Stage{NamedTuple{(:K, :tt, :β, :γ), Tuple{Float64, Int64, Int64, Int64}}}, StochasticPrograms.Stage{NamedTuple{(:K, :tt, :β, :γ), Tuple{Float64, Int64, Int64, Int64}}}}, DeterministicEquivalent{2, 1, Tuple{Vector{Scenario{Vector{Float64}}}}}}; crash::StochasticPrograms.Crash.None, cache::Bool, kw::Base.Pairs{Symbol, Union{}, Tuple{}, NamedTuple{(), Tuple{}}})\n",
      "    @ StochasticPrograms ~/.julia/packages/StochasticPrograms/pIScW/src/methods/api.jl:231\n",
      " [15] optimize!(stochasticprogram::StochasticProgram{2, Tuple{StochasticPrograms.Stage{NamedTuple{(:K, :tt, :β, :γ), Tuple{Float64, Int64, Int64, Int64}}}, StochasticPrograms.Stage{NamedTuple{(:K, :tt, :β, :γ), Tuple{Float64, Int64, Int64, Int64}}}}, DeterministicEquivalent{2, 1, Tuple{Vector{Scenario{Vector{Float64}}}}}})\n",
      "    @ StochasticPrograms ~/.julia/packages/StochasticPrograms/pIScW/src/methods/api.jl:221\n",
      " [16] top-level scope\n",
      "    @ /mnt/c/Users/uqfcho/OneDrive - The University of Queensland/Documents/GitHub/koala-uncertainty/code/solve-two-stage-prob-stocprog.ipynb:3"
     ]
    }
   ],
   "source": [
    "set_time_limit_sec(sp, 10.0)\n",
    "unset_silent(sp)\n",
    "optimize!(sp)"
   ]
  },
  {
   "cell_type": "code",
   "execution_count": 10,
   "metadata": {},
   "outputs": [
    {
     "name": "stdout",
     "output_type": "stream",
     "text": [
      "Set parameter Username\n",
      "Academic license - for non-commercial use only - expires 2023-12-16\n",
      "Set parameter Username\n",
      "Academic license - for non-commercial use only - expires 2023-12-16\n",
      "Set parameter Username\n",
      "Academic license - for non-commercial use only - expires 2023-12-16\n",
      "Set parameter Username\n",
      "Academic license - for non-commercial use only - expires 2023-12-16\n"
     ]
    },
    {
     "data": {
      "text/plain": [
       "(model = A JuMP Model\n",
       "Minimization problem with:\n",
       "Variables: 1261148\n",
       "Objective function type: AffExpr\n",
       "`AffExpr`-in-`MathOptInterface.GreaterThan{Float64}`: 622188 constraints\n",
       "`AffExpr`-in-`MathOptInterface.LessThan{Float64}`: 621936 constraints\n",
       "`VariableRef`-in-`MathOptInterface.GreaterThan{Float64}`: 1261148 constraints\n",
       "`VariableRef`-in-`MathOptInterface.LessThan{Float64}`: 1261148 constraints\n",
       "Model mode: AUTOMATIC\n",
       "CachingOptimizer state: ATTACHED_OPTIMIZER\n",
       "Solver name: Gurobi\n",
       "Names registered in the model: w, x, y, obj_value = 5.1489790658401385e7, x = [0.0, 0.0, 0.0, 0.0, 0.0, 0.0, 0.0, 0.0, 0.0, 0.0  …  0.0, 0.0, 0.0, 0.0, 0.0, 0.0, 0.0, 0.0, 0.0, 0.0], y = [0.0 0.0 … 0.0 0.0; 0.0 0.0 … 0.0 0.0; … ; 0.0 0.0 … 0.0 0.0; 0.0 0.0 … 0.0 0.0], w = [0.0 0.0 … 0.0 0.0; 0.0 0.0 … 0.0 0.0; … ; 0.0 0.0 … 0.0 0.0; 0.0 0.0 … 0.0 0.0])"
      ]
     },
     "execution_count": 10,
     "metadata": {},
     "output_type": "execute_result"
    }
   ],
   "source": [
    "solution_no_recourse    = fcn_two_stage_opt(cost, M, 70.0, ones(S)/S, 4; add_recourse = false, terminate_recourse = false)\n",
    "solution_add_only       = fcn_two_stage_opt(cost, M, 70.0, ones(S)/S, 4; add_recourse = true, terminate_recourse = false)\n",
    "solution_terminate_only = fcn_two_stage_opt(cost, M, 70.0, ones(S)/S, 4; add_recourse = false, terminate_recourse = true)\n",
    "solution_full_recourse  = fcn_two_stage_opt(cost, M, 70.0, ones(S)/S, 4; add_recourse = true , terminate_recourse = true)"
   ]
  },
  {
   "attachments": {},
   "cell_type": "markdown",
   "metadata": {},
   "source": [
    "Plot bar chart showing the objective values"
   ]
  },
  {
   "cell_type": "code",
   "execution_count": 11,
   "metadata": {},
   "outputs": [],
   "source": [
    "obj_values = [solution_no_recourse.obj_value; solution_add_only.obj_value; solution_terminate_only.obj_value; solution_full_recourse.obj_value];\n",
    "solution_list = [\"no_recourse\", \"add_only\", \"terminate_only\", \"full_recourse\"];\n",
    "obj_value_df = DataFrame(hcat(solution_list, obj_values), [\"Solution\", \"Objective Value\"]);\n",
    "CSV.write(\"data/obj_values.csv\", obj_value_df);\n"
   ]
  },
  {
   "cell_type": "code",
   "execution_count": null,
   "metadata": {},
   "outputs": [],
   "source": [
    "function fcn_tidy_two_stage_solution(solution, prop_id, climate_models)\n",
    "    out = hcat(prop_id, solution.x, solution.y, solution.w)\n",
    "    y_array = [\"y_\" * c for c in climate_models];\n",
    "    w_array = [\"w_\" * c for c in climate_models];\n",
    "    colnames = vcat([\"NewPropID\"; \"x\"], y_array, w_array);\n",
    "    return DataFrame(out, colnames);\n",
    "end\n",
    "\n",
    "function fcn_tidy_two_stage_solution_sum(solution, prop_id)\n",
    "    out = hcat(prop_id, solution.x, sum(solution.y, dims=2), sum(solution.w, dims=2))\n",
    "    colnames = vcat([\"NewPropID\"; \"x\"; \"sum_y\"; \"sum_w\"]);\n",
    "    return DataFrame(out, colnames);\n",
    "end\n",
    "\n",
    "climate_models = unique(habitat_df.climate_model)\n",
    "solution_df = map((c->fcn_tidy_two_stage_solution_sum(c, cost_df.NewPropID)), [solution_no_recourse, solution_add_only, solution_terminate_only, solution_full_recourse]);"
   ]
  },
  {
   "cell_type": "code",
   "execution_count": null,
   "metadata": {},
   "outputs": [],
   "source": [
    "CSV.write(\"data/solution_no_recourse.csv\", solution_df[1]);\n",
    "CSV.write(\"data/solution_add_only.csv\", solution_df[2]);\n",
    "CSV.write(\"data/solution_terminate_only.csv\", solution_df[3]);\n",
    "CSV.write(\"data/solution_full_recourse.csv\", solution_df[4]);\n"
   ]
  }
 ],
 "metadata": {
  "kernelspec": {
   "display_name": "Julia 1.8.4",
   "language": "julia",
   "name": "julia-1.8"
  },
  "language_info": {
   "file_extension": ".jl",
   "mimetype": "application/julia",
   "name": "julia",
   "version": "1.8.4"
  },
  "orig_nbformat": 4,
  "vscode": {
   "interpreter": {
    "hash": "e1d726f6675abd80280efd2f6ec4afdd473694383f7e2b29217454d332083a4f"
   }
  }
 },
 "nbformat": 4,
 "nbformat_minor": 2
}
