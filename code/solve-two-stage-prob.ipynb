{
 "cells": [
  {
   "cell_type": "code",
   "execution_count": 6,
   "metadata": {},
   "outputs": [],
   "source": [
    "using CSV\n",
    "using DataFrames\n",
    "using Revise\n",
    "using StatsBase\n",
    "cd(\"c:/Users/uqfcho/Documents/GitHub/uncertainty\")\n",
    "includet(\"code/optim-functions.jl\")\n"
   ]
  },
  {
   "attachments": {},
   "cell_type": "markdown",
   "metadata": {},
   "source": [
    "Import data files"
   ]
  },
  {
   "cell_type": "code",
   "execution_count": 7,
   "metadata": {},
   "outputs": [],
   "source": [
    "cost_df = CSV.read(\"data/meanWTA_10yr.csv\", DataFrame);\n",
    "habitat_df = CSV.read(\"data/habitat_suitw_graham.csv\", DataFrame);\n"
   ]
  },
  {
   "attachments": {},
   "cell_type": "markdown",
   "metadata": {},
   "source": [
    "Load dataframes as matrices\n",
    "- N: number of properties\n",
    "- T: number of timesteps\n",
    "- S: number of scenarios"
   ]
  },
  {
   "cell_type": "code",
   "execution_count": 8,
   "metadata": {},
   "outputs": [],
   "source": [
    "cost = Matrix(cost_df[:, [:cost2025, :cost2035, :cost2045, :cost2055, :cost2065, :cost2075, :cost2085]]);\n",
    "N = size(cost,1);\n",
    "T = size(cost,2);\n",
    "S = length(unique(habitat_df.climate_model));"
   ]
  },
  {
   "cell_type": "code",
   "execution_count": 9,
   "metadata": {},
   "outputs": [],
   "source": [
    "M = zeros(N, T, S);\n",
    "for (s, cm) in enumerate(unique(habitat_df.climate_model))\n",
    "    df = filter(row -> row.climate_model == cm, habitat_df);\n",
    "    select!(df, Not([:climate_model, :NewPropID]))\n",
    "    M[:,:,s] = Matrix(df);\n",
    "end"
   ]
  },
  {
   "attachments": {},
   "cell_type": "markdown",
   "metadata": {},
   "source": [
    "# Solve a two-stage stochastic optimisation model\n",
    "Written as:\n",
    "\n",
    "$$ \\min_{x,y,w} \\sum_i \\sum_{t<t'} c_{it}x_i + \\sum_s p_s \\sum_i \\sum_{t\\geq t'} ((\\beta + c_{it}) y_{is} + (\\gamma - c_{it})w_{is})$$\n",
    "$$ s.t. \\sum_i m_{its} x_i \\geq K \\quad \\forall t < t', s \\in S$$\n",
    "$$ \\sum_i m_{its} (x_i + y_{is} - w_{is}) \\geq K \\quad \\forall t \\geq t', s \\in S$$\n",
    "$$ x_i + y_{is} \\leq 1 \\quad \\forall i \\in N, s \\in S $$\n",
    "$$ x_i \\geq w_{is} \\quad \\forall i \\in N, s \\in S $$\n",
    "$$ x, y, w \\in [0,1] $$\n",
    "\n",
    "where\n",
    "* $i$: properties (out of $N$)\n",
    "* $t$: timesteps - $t'$ is the timestep when uncertainty about $m$ is revealed\n",
    "* $s$: scenarios (out of $S$)\n",
    "* $x$: properties with covenant signed before $t'$\n",
    "* $y$: properties with covenant newly added in the second stage (after $t'$)\n",
    "* $w$: properties with covenant terminated at timestep $t'$\n",
    "* $c$: cost (mean WTA)\n",
    "* $m$: quality metric (suitability-weighed koala habitat)\n",
    "* $K$: objective for the amount of suitability-weighted koala habitats that must be achieved\n",
    "* $\\beta$: additional costs incurred for adding covenants in the second stage\n",
    "* $\\gamma$: additional costs incurred for terminating covenants in the second stage\n",
    "* $p$: probability of each scenario"
   ]
  },
  {
   "attachments": {},
   "cell_type": "markdown",
   "metadata": {},
   "source": [
    "Solve four versions:\n",
    "1. No recourse allowed: all decisions made in the first time (i.e. $y = 0$ & $w = 0$)\n",
    "2. Only adding new units in year 2055 (i.e. $w = 0$)\n",
    "3. Only terminating covenants in year 2055 (i.e. $y = 0$)\n",
    "4. Full recourse: add and terminating units allowed"
   ]
  },
  {
   "cell_type": "code",
   "execution_count": 10,
   "metadata": {},
   "outputs": [
    {
     "name": "stdout",
     "output_type": "stream",
     "text": [
      "Set parameter Username\n",
      "Academic license - for non-commercial use only - expires 2023-12-16\n",
      "Set parameter Username\n",
      "Academic license - for non-commercial use only - expires 2023-12-16\n",
      "Set parameter Username\n",
      "Academic license - for non-commercial use only - expires 2023-12-16\n",
      "Set parameter Username\n",
      "Academic license - for non-commercial use only - expires 2023-12-16\n"
     ]
    },
    {
     "data": {
      "text/plain": [
       "(model = A JuMP Model\n",
       "Minimization problem with:\n",
       "Variables: 1261148\n",
       "Objective function type: AffExpr\n",
       "`AffExpr`-in-`MathOptInterface.GreaterThan{Float64}`: 622188 constraints\n",
       "`AffExpr`-in-`MathOptInterface.LessThan{Float64}`: 621936 constraints\n",
       "`VariableRef`-in-`MathOptInterface.GreaterThan{Float64}`: 1261148 constraints\n",
       "`VariableRef`-in-`MathOptInterface.LessThan{Float64}`: 1261148 constraints\n",
       "Model mode: AUTOMATIC\n",
       "CachingOptimizer state: ATTACHED_OPTIMIZER\n",
       "Solver name: Gurobi\n",
       "Names registered in the model: w, x, y, obj_value = 5.1489790658401385e7, x = [0.0, 0.0, 0.0, 0.0, 0.0, 0.0, 0.0, 0.0, 0.0, 0.0  …  0.0, 0.0, 0.0, 0.0, 0.0, 0.0, 0.0, 0.0, 0.0, 0.0], y = [0.0 0.0 … 0.0 0.0; 0.0 0.0 … 0.0 0.0; … ; 0.0 0.0 … 0.0 0.0; 0.0 0.0 … 0.0 0.0], w = [0.0 0.0 … 0.0 0.0; 0.0 0.0 … 0.0 0.0; … ; 0.0 0.0 … 0.0 0.0; 0.0 0.0 … 0.0 0.0])"
      ]
     },
     "execution_count": 10,
     "metadata": {},
     "output_type": "execute_result"
    }
   ],
   "source": [
    "solution_no_recourse    = fcn_two_stage_opt(cost, M, 70.0, ones(S)/S, 4; add_recourse = false, terminate_recourse = false)\n",
    "solution_add_only       = fcn_two_stage_opt(cost, M, 70.0, ones(S)/S, 4; add_recourse = true, terminate_recourse = false)\n",
    "solution_terminate_only = fcn_two_stage_opt(cost, M, 70.0, ones(S)/S, 4; add_recourse = false, terminate_recourse = true)\n",
    "solution_full_recourse  = fcn_two_stage_opt(cost, M, 70.0, ones(S)/S, 4; add_recourse = true , terminate_recourse = true)"
   ]
  },
  {
   "attachments": {},
   "cell_type": "markdown",
   "metadata": {},
   "source": [
    "Plot bar chart showing the objective values"
   ]
  },
  {
   "cell_type": "code",
   "execution_count": 11,
   "metadata": {},
   "outputs": [],
   "source": [
    "obj_values = [solution_no_recourse.obj_value; solution_add_only.obj_value; solution_terminate_only.obj_value; solution_full_recourse.obj_value];\n",
    "solution_list = [\"no_recourse\", \"add_only\", \"terminate_only\", \"full_recourse\"];\n",
    "obj_value_df = DataFrame(hcat(solution_list, obj_values), [\"Solution\", \"Objective Value\"]);\n",
    "CSV.write(\"data/obj_values.csv\", obj_value_df);\n"
   ]
  },
  {
   "cell_type": "code",
   "execution_count": null,
   "metadata": {},
   "outputs": [],
   "source": [
    "function fcn_tidy_two_stage_solution(solution, prop_id, climate_models)\n",
    "    out = hcat(prop_id, solution.x, solution.y, solution.w)\n",
    "    y_array = [\"y_\" * c for c in climate_models];\n",
    "    w_array = [\"w_\" * c for c in climate_models];\n",
    "    colnames = vcat([\"NewPropID\"; \"x\"], y_array, w_array);\n",
    "    return DataFrame(out, colnames);\n",
    "end\n",
    "\n",
    "function fcn_tidy_two_stage_solution_sum(solution, prop_id)\n",
    "    out = hcat(prop_id, solution.x, sum(solution.y, dims=2), sum(solution.w, dims=2))\n",
    "    colnames = vcat([\"NewPropID\"; \"x\"; \"sum_y\"; \"sum_w\"]);\n",
    "    return DataFrame(out, colnames);\n",
    "end\n",
    "\n",
    "climate_models = unique(habitat_df.climate_model)\n",
    "solution_df = map((c->fcn_tidy_two_stage_solution_sum(c, cost_df.NewPropID)), [solution_no_recourse, solution_add_only, solution_terminate_only, solution_full_recourse]);"
   ]
  },
  {
   "cell_type": "code",
   "execution_count": null,
   "metadata": {},
   "outputs": [],
   "source": [
    "CSV.write(\"data/solution_no_recourse.csv\", solution_df[1]);\n",
    "CSV.write(\"data/solution_add_only.csv\", solution_df[2]);\n",
    "CSV.write(\"data/solution_terminate_only.csv\", solution_df[3]);\n",
    "CSV.write(\"data/solution_full_recourse.csv\", solution_df[4]);\n"
   ]
  }
 ],
 "metadata": {
  "kernelspec": {
   "display_name": "Julia 1.8.4",
   "language": "julia",
   "name": "julia-1.8"
  },
  "language_info": {
   "file_extension": ".jl",
   "mimetype": "application/julia",
   "name": "julia",
   "version": "1.8.4"
  },
  "orig_nbformat": 4,
  "vscode": {
   "interpreter": {
    "hash": "e1d726f6675abd80280efd2f6ec4afdd473694383f7e2b29217454d332083a4f"
   }
  }
 },
 "nbformat": 4,
 "nbformat_minor": 2
}
