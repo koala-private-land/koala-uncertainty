{
 "cells": [
  {
   "cell_type": "code",
   "execution_count": 11,
   "metadata": {},
   "outputs": [],
   "source": [
    "using CSV\n",
    "using DataFrames\n",
    "using Revise\n",
    "cd(\"c:/Users/uqfcho/Documents/GitHub/uncertainty\")\n",
    "includet(\"code/optim-functions.jl\")\n"
   ]
  },
  {
   "attachments": {},
   "cell_type": "markdown",
   "metadata": {},
   "source": [
    "Import data files"
   ]
  },
  {
   "cell_type": "code",
   "execution_count": 12,
   "metadata": {},
   "outputs": [],
   "source": [
    "cost_df = CSV.read(\"data/meanWTA_10yr.csv\", DataFrame);\n",
    "habitat_df = CSV.read(\"data/habitat_suitw_graham.csv\", DataFrame);\n"
   ]
  },
  {
   "attachments": {},
   "cell_type": "markdown",
   "metadata": {},
   "source": [
    "Load dataframes as matrices\n",
    "- N: number of properties\n",
    "- T: number of timesteps\n",
    "- S: number of scenarios"
   ]
  },
  {
   "cell_type": "code",
   "execution_count": 13,
   "metadata": {},
   "outputs": [],
   "source": [
    "cost = Matrix(cost_df[:, [:cost2025, :cost2035, :cost2045, :cost2055, :cost2065, :cost2075, :cost2085]]);\n",
    "N = size(cost,1);\n",
    "T = size(cost,2);\n",
    "S = length(unique(habitat_df.climate_model));"
   ]
  },
  {
   "cell_type": "code",
   "execution_count": 14,
   "metadata": {},
   "outputs": [],
   "source": [
    "M = zeros(N, T, S);\n",
    "for (s, cm) in enumerate(unique(habitat_df.climate_model))\n",
    "    df = filter(row -> row.climate_model == cm, habitat_df);\n",
    "    select!(df, Not([:climate_model, :NewPropID]))\n",
    "    M[:,:,s] = Matrix(df);\n",
    "end"
   ]
  },
  {
   "cell_type": "code",
   "execution_count": 16,
   "metadata": {},
   "outputs": [],
   "source": [
    "solution = fcn_two_stage_opt(cost, M, 5e5)"
   ]
  }
 ],
 "metadata": {
  "kernelspec": {
   "display_name": "Julia 1.8.4",
   "language": "julia",
   "name": "julia-1.8"
  },
  "language_info": {
   "file_extension": ".jl",
   "mimetype": "application/julia",
   "name": "julia",
   "version": "1.8.4"
  },
  "orig_nbformat": 4,
  "vscode": {
   "interpreter": {
    "hash": "e1d726f6675abd80280efd2f6ec4afdd473694383f7e2b29217454d332083a4f"
   }
  }
 },
 "nbformat": 4,
 "nbformat_minor": 2
}
